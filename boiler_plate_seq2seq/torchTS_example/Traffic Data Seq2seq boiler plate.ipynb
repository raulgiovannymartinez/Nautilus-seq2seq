{
 "cells": [
  {
   "cell_type": "code",
   "execution_count": 5,
   "id": "b2c2c7c4",
   "metadata": {},
   "outputs": [
    {
     "name": "stdout",
     "output_type": "stream",
     "text": [
      "Python 3.6.13 :: Anaconda, Inc.\r\n"
     ]
    }
   ],
   "source": [
    "!python --version"
   ]
  },
  {
   "cell_type": "code",
   "execution_count": 6,
   "id": "1f060813",
   "metadata": {},
   "outputs": [],
   "source": [
    "import sqlalchemy as sal\n",
    "import pandas as pd\n",
    "from os.path import join\n",
    "import numpy as np\n",
    "\n",
    "import torch"
   ]
  },
  {
   "cell_type": "markdown",
   "id": "3637dfde",
   "metadata": {},
   "source": [
    "# Import data"
   ]
  },
  {
   "cell_type": "markdown",
   "id": "19e94757",
   "metadata": {},
   "source": [
    "## Relational Database System (RDS) - Option #1"
   ]
  },
  {
   "cell_type": "code",
   "execution_count": 7,
   "id": "0dc4644c",
   "metadata": {},
   "outputs": [],
   "source": [
    "# %%time\n",
    "\n",
    "# #parameters of the AWS database\n",
    "# endpoint = \"capstone.clihskgj8i7s.us-west-2.rds.amazonaws.com\"\n",
    "# user=\"group3\"\n",
    "# db=\"db1\"\n",
    "# #pw=getpass.getpass(\"Enter database password\")\n",
    "# pw=open(r'C:\\Users\\giomt\\Documents\\password.txt',\"r\").read().rstrip()\n",
    "\n",
    "# engine = sal.create_engine('postgresql://%s:%s@%s/%s' % (user, pw, endpoint, db))\n",
    "\n",
    "# query=\"\"\"\n",
    "# select timestamp, station, avg_speed, total_flow\n",
    "# from traffic_train\n",
    "# where station in (400714, 400743, 400001)\n",
    "# ;\n",
    "# \"\"\"\n",
    "\n",
    "# df_query_raw=pd.read_sql(query, engine)\n",
    "\n",
    "# print(df_query_raw.shape)\n",
    "# df_query_raw.head()"
   ]
  },
  {
   "cell_type": "markdown",
   "id": "0505ad9f",
   "metadata": {},
   "source": [
    "## HDF5 file - Option #2\n",
    "\n",
    "Info about the dataset used below.\n",
    "- source:\n",
    "https://github.com/chnsh/DCRNN_PyTorch\n",
    "\n",
    "- google drive for downloading the file:\n",
    "https://drive.google.com/drive/folders/10FOTa6HXPqX8Pf5WRoRwcFnW9BrNZEIX"
   ]
  },
  {
   "cell_type": "code",
   "execution_count": 9,
   "id": "4a4e6570",
   "metadata": {},
   "outputs": [
    {
     "data": {
      "text/plain": [
       "<class 'pandas.io.pytables.HDFStore'>\n",
       "File path: ./pems-bay.h5"
      ]
     },
     "execution_count": 9,
     "metadata": {},
     "output_type": "execute_result"
    }
   ],
   "source": [
    "from pandas import HDFStore\n",
    "\n",
    "filename = \"./pems-bay.h5\"\n",
    "\n",
    "# read store for HDFS\n",
    "store = HDFStore(filename)\n",
    "store"
   ]
  },
  {
   "cell_type": "code",
   "execution_count": 10,
   "id": "5efe9e82",
   "metadata": {},
   "outputs": [
    {
     "name": "stdout",
     "output_type": "stream",
     "text": [
      "(156348, 3)\n"
     ]
    },
    {
     "data": {
      "text/html": [
       "<div>\n",
       "<style scoped>\n",
       "    .dataframe tbody tr th:only-of-type {\n",
       "        vertical-align: middle;\n",
       "    }\n",
       "\n",
       "    .dataframe tbody tr th {\n",
       "        vertical-align: top;\n",
       "    }\n",
       "\n",
       "    .dataframe thead th {\n",
       "        text-align: right;\n",
       "    }\n",
       "</style>\n",
       "<table border=\"1\" class=\"dataframe\">\n",
       "  <thead>\n",
       "    <tr style=\"text-align: right;\">\n",
       "      <th></th>\n",
       "      <th>timestamp</th>\n",
       "      <th>station</th>\n",
       "      <th>avg_speed</th>\n",
       "    </tr>\n",
       "  </thead>\n",
       "  <tbody>\n",
       "    <tr>\n",
       "      <th>0</th>\n",
       "      <td>2017-01-01 00:00:00</td>\n",
       "      <td>400714</td>\n",
       "      <td>70.5</td>\n",
       "    </tr>\n",
       "    <tr>\n",
       "      <th>1</th>\n",
       "      <td>2017-01-01 00:00:00</td>\n",
       "      <td>400743</td>\n",
       "      <td>68.8</td>\n",
       "    </tr>\n",
       "    <tr>\n",
       "      <th>2</th>\n",
       "      <td>2017-01-01 00:00:00</td>\n",
       "      <td>400001</td>\n",
       "      <td>71.4</td>\n",
       "    </tr>\n",
       "    <tr>\n",
       "      <th>3</th>\n",
       "      <td>2017-01-01 00:05:00</td>\n",
       "      <td>400714</td>\n",
       "      <td>70.2</td>\n",
       "    </tr>\n",
       "    <tr>\n",
       "      <th>4</th>\n",
       "      <td>2017-01-01 00:05:00</td>\n",
       "      <td>400743</td>\n",
       "      <td>68.7</td>\n",
       "    </tr>\n",
       "  </tbody>\n",
       "</table>\n",
       "</div>"
      ],
      "text/plain": [
       "            timestamp  station  avg_speed\n",
       "0 2017-01-01 00:00:00   400714       70.5\n",
       "1 2017-01-01 00:00:00   400743       68.8\n",
       "2 2017-01-01 00:00:00   400001       71.4\n",
       "3 2017-01-01 00:05:00   400714       70.2\n",
       "4 2017-01-01 00:05:00   400743       68.7"
      ]
     },
     "execution_count": 10,
     "metadata": {},
     "output_type": "execute_result"
    }
   ],
   "source": [
    "# select a subset of all stations\n",
    "stations_list = [400714, 400743, 400001] \n",
    "df_query_raw = store.speed.loc[:, stations_list].stack(\n",
    "                                            ).reset_index(name='avg_speed'\n",
    "                                            ).rename(columns={\"level_0\": \"timestamp\",\n",
    "                                                              \"sensor_id\": \"station\"})\n",
    "\n",
    "# run all stations\n",
    "# df_query_raw = store.speed.stack(\n",
    "#                         ).reset_index(name='avg_speed'\n",
    "#                         ).rename(columns={\"level_0\": \"timestamp\",\n",
    "#                                           \"sensor_id\": \"station\"})\n",
    "\n",
    "print(df_query_raw.shape)\n",
    "df_query_raw.head()"
   ]
  },
  {
   "cell_type": "markdown",
   "id": "7f8b2586",
   "metadata": {},
   "source": [
    "# Clean Data"
   ]
  },
  {
   "cell_type": "code",
   "execution_count": 11,
   "id": "45765059",
   "metadata": {},
   "outputs": [
    {
     "data": {
      "text/plain": [
       "timestamp    0\n",
       "station      0\n",
       "avg_speed    0\n",
       "dtype: int64"
      ]
     },
     "execution_count": 11,
     "metadata": {},
     "output_type": "execute_result"
    }
   ],
   "source": [
    "df_query_raw.isna().sum() # check for na values"
   ]
  },
  {
   "cell_type": "code",
   "execution_count": 12,
   "id": "ab0a46c7",
   "metadata": {},
   "outputs": [],
   "source": [
    "# fill na values with rolling mean\n",
    "df_query_cleaned = df_query_raw.fillna(df_query_raw.rolling(window=6,min_periods=1).mean())"
   ]
  },
  {
   "cell_type": "code",
   "execution_count": 13,
   "id": "b2f1c6df",
   "metadata": {},
   "outputs": [
    {
     "data": {
      "text/plain": [
       "timestamp    0\n",
       "station      0\n",
       "avg_speed    0\n",
       "dtype: int64"
      ]
     },
     "execution_count": 13,
     "metadata": {},
     "output_type": "execute_result"
    }
   ],
   "source": [
    "df_query_cleaned.isna().sum() # verify na values are not present"
   ]
  },
  {
   "cell_type": "markdown",
   "id": "51184741",
   "metadata": {},
   "source": [
    "# Generate Seq2Seq Sequences"
   ]
  },
  {
   "cell_type": "code",
   "execution_count": 14,
   "id": "a897abf3",
   "metadata": {},
   "outputs": [],
   "source": [
    "def generate_seq2seq_data(df, horizon, window, features):\n",
    "    \n",
    "    idx_cols = ['station','timestamp']\n",
    "\n",
    "    df = df.set_index(idx_cols).sort_values(by=idx_cols)\n",
    "\n",
    "    features_tensor_list = []\n",
    "    for f in features:\n",
    "        print(f)\n",
    "        \n",
    "        ts_seq_list = []\n",
    "        for s in df.index.unique(level=0): # concatenate stations next to each other\n",
    "#             print(s)\n",
    "            values = df.loc[s][f].values\n",
    "            \n",
    "            for i in range(len(values)-horizon*2):\n",
    "                arr = np.array(values[i:i+horizon*2])\n",
    "                ts_seq_list.append(torch.from_numpy(arr.reshape(horizon*2,1)))\n",
    "\n",
    "        sequence_tensor = torch.stack(ts_seq_list, dim=0)\n",
    "\n",
    "        features_tensor_list.append(sequence_tensor)\n",
    "\n",
    "    return torch.cat(features_tensor_list, dim=2)"
   ]
  },
  {
   "cell_type": "code",
   "execution_count": 15,
   "id": "823782f3",
   "metadata": {},
   "outputs": [
    {
     "name": "stdout",
     "output_type": "stream",
     "text": [
      "avg_speed\n",
      "torch.Size([156276, 24, 1])\n",
      "CPU times: user 728 ms, sys: 89 ms, total: 817 ms\n",
      "Wall time: 779 ms\n"
     ]
    }
   ],
   "source": [
    "%%time\n",
    "data_seq2seq = generate_seq2seq_data(df_query_cleaned,\n",
    "                                     horizon=12, \n",
    "                                     window=1, \n",
    "#                                     features=['avg_speed', 'total_flow'])\n",
    "                                     features=['avg_speed'])\n",
    "\n",
    "print(data_seq2seq.shape)"
   ]
  },
  {
   "cell_type": "code",
   "execution_count": 16,
   "id": "d11266a8",
   "metadata": {},
   "outputs": [],
   "source": [
    "# %%time\n",
    "\n",
    "# # Order sequences in chronological order - Option #1\n",
    "# total_len = len(data_seq2seq)\n",
    "# No_stations = len(df_query_cleaned.station.unique())\n",
    "# samples_per_station = int(total_len/No_stations)\n",
    "\n",
    "# data_list = []\n",
    "# for i in range(samples_per_station):\n",
    "#     for idx_s in range(No_stations):\n",
    "#         idx = samples_per_station*idx_s + i\n",
    "#         data_list.append(data_seq2seq[idx, :, :])\n",
    "    \n",
    "# data_seq2seq = torch.stack(data_list, dim=0)\n",
    "\n",
    "# print(data_seq2seq.shape)"
   ]
  },
  {
   "cell_type": "code",
   "execution_count": 17,
   "id": "6fe07758",
   "metadata": {},
   "outputs": [],
   "source": [
    "# %%time\n",
    "\n",
    "# from random import randrange\n",
    "\n",
    "# # Randomize sequences order - Option #2\n",
    "# list_ = [i for i in range(len(data_seq2seq))]\n",
    "# random.shuffle(list_)\n",
    "\n",
    "# data_list = []\n",
    "# for idx in list_:\n",
    "#     data_list.append(data_seq2seq[idx, :, :])\n",
    "    \n",
    "# data_seq2seq = torch.stack(data_list, dim=0)\n",
    "# print(data_seq2seq.shape)"
   ]
  },
  {
   "cell_type": "markdown",
   "id": "d853a326",
   "metadata": {},
   "source": [
    "# Train, Validation, and Test Split"
   ]
  },
  {
   "cell_type": "code",
   "execution_count": 18,
   "id": "aafe1d8a",
   "metadata": {},
   "outputs": [
    {
     "name": "stdout",
     "output_type": "stream",
     "text": [
      "torch.Size([156276, 12, 1]) torch.Size([156276, 12, 1])\n"
     ]
    }
   ],
   "source": [
    "# generate x and y vectors\n",
    "x = data_seq2seq[:, :12, :]\n",
    "y = data_seq2seq[:, 12:, :]\n",
    "\n",
    "print(x.shape, y.shape)"
   ]
  },
  {
   "cell_type": "code",
   "execution_count": 19,
   "id": "8aa557bc",
   "metadata": {},
   "outputs": [
    {
     "name": "stdout",
     "output_type": "stream",
     "text": [
      "Total number of samples: 156276\n",
      "Percentage for train: 70.00\n",
      "Percentage for val: 10.00\n",
      "Percentage for test: 20.00\n"
     ]
    }
   ],
   "source": [
    "# define split ratio for train, val and test\n",
    "num_samples = x.shape[0]\n",
    "num_test = round(num_samples * 0.2)\n",
    "num_train = round(num_samples * 0.7)\n",
    "num_val = num_samples - num_test - num_train\n",
    "\n",
    "print('Total number of samples: {}'.format(num_samples))\n",
    "print('Percentage for train: {:.2f}'.format(100*num_train/num_samples))\n",
    "print('Percentage for val: {:.2f}'.format(100*num_val/num_samples))\n",
    "print('Percentage for test: {:.2f}'.format(100*num_test/num_samples))"
   ]
  },
  {
   "cell_type": "code",
   "execution_count": 20,
   "id": "1d96e631",
   "metadata": {},
   "outputs": [
    {
     "name": "stdout",
     "output_type": "stream",
     "text": [
      "torch.Size([109393, 12, 1]) torch.Size([109393, 12, 1])\n",
      "torch.Size([15628, 12, 1]) torch.Size([15628, 12, 1])\n",
      "torch.Size([31255, 12, 1]) torch.Size([31255, 12, 1])\n"
     ]
    }
   ],
   "source": [
    "# train\n",
    "x_train = x[:num_train]\n",
    "y_train = y[:num_train]\n",
    "\n",
    "# val\n",
    "x_val = x[num_train: num_train + num_val] \n",
    "y_val = y[num_train: num_train + num_val]\n",
    "\n",
    "# test\n",
    "x_test = x[-num_test:] \n",
    "y_test = y[-num_test:]\n",
    "\n",
    "print(x_train.shape, y_train.shape)\n",
    "print(x_val.shape, y_val.shape)\n",
    "print(x_test.shape, y_test.shape)"
   ]
  },
  {
   "cell_type": "code",
   "execution_count": 21,
   "id": "a62bcfd8",
   "metadata": {},
   "outputs": [
    {
     "name": "stdout",
     "output_type": "stream",
     "text": [
      "train x:  torch.Size([109393, 12, 1]) y: torch.Size([109393, 12, 1])\n",
      "val x:  torch.Size([15628, 12, 1]) y: torch.Size([15628, 12, 1])\n",
      "test x:  torch.Size([31255, 12, 1]) y: torch.Size([31255, 12, 1])\n"
     ]
    }
   ],
   "source": [
    "# output train, val, and test NPZ files\n",
    "output_dir = './'\n",
    "\n",
    "for cat in [\"train\", \"val\", \"test\"]:\n",
    "    \n",
    "    _x = locals()[\"x_\" + cat] \n",
    "    _y = locals()[\"y_\" + cat]\n",
    "    \n",
    "    print(cat, \"x: \", _x.shape, \"y:\", _y.shape)\n",
    "    \n",
    "    np.savez_compressed(\n",
    "        join(output_dir, \"%s.npz\" % cat),\n",
    "        x=_x,\n",
    "        y=_y\n",
    "    )"
   ]
  },
  {
   "cell_type": "markdown",
   "id": "bba877d9",
   "metadata": {},
   "source": [
    "# Define Seq2Seq Model"
   ]
  },
  {
   "cell_type": "code",
   "execution_count": 22,
   "id": "955c5a6c",
   "metadata": {},
   "outputs": [],
   "source": [
    "from torchts.utils import data as utils\n",
    "from torchts.nn.models.seq2seq import Encoder, Decoder, Seq2Seq \n",
    "\n",
    "import time\n",
    "from pytorch_lightning import Trainer\n",
    "from pytorch_lightning import loggers as pl_loggers"
   ]
  },
  {
   "cell_type": "code",
   "execution_count": 23,
   "id": "7cf5a23a",
   "metadata": {},
   "outputs": [],
   "source": [
    "dataset_dir = './'\n",
    "\n",
    "# define hyper-parameters\n",
    "# learning_rate = 0.01 # this parameter is currently hard coded in the optimizer\n",
    "dropout_rate = 0.8\n",
    "num_layers = 1\n",
    "hidden_dim = 64\n",
    "input_dim = 1\n",
    "output_dim = 1\n",
    "horizon = 12\n",
    "batch_size = 64"
   ]
  },
  {
   "cell_type": "code",
   "execution_count": 24,
   "id": "630518b3",
   "metadata": {},
   "outputs": [
    {
     "name": "stdout",
     "output_type": "stream",
     "text": [
      "CPU times: user 88.2 ms, sys: 16.2 ms, total: 104 ms\n",
      "Wall time: 93.9 ms\n"
     ]
    },
    {
     "data": {
      "text/plain": [
       "dict_keys(['x_train', 'y_train', 'x_val', 'y_val', 'x_test', 'y_test', 'train_loader', 'val_loader', 'test_loader', 'scaler'])"
      ]
     },
     "execution_count": 24,
     "metadata": {},
     "output_type": "execute_result"
    }
   ],
   "source": [
    "%%time\n",
    "# load train, val and test NPZ files\n",
    "data = utils.load_dataset(dataset_dir, batch_size=batch_size, test_batch_size=batch_size)\n",
    "\n",
    "data.keys()"
   ]
  },
  {
   "cell_type": "code",
   "execution_count": 25,
   "id": "4d5c6331",
   "metadata": {},
   "outputs": [
    {
     "name": "stderr",
     "output_type": "stream",
     "text": [
      "/Users/raul.martinez3/opt/anaconda3/envs/py36/lib/python3.6/site-packages/torch/nn/modules/rnn.py:65: UserWarning: dropout option adds dropout after all but last recurrent layer, so non-zero dropout expects num_layers greater than 1, but got dropout=0.8 and num_layers=1\n",
      "  \"num_layers={}\".format(dropout, num_layers))\n"
     ]
    }
   ],
   "source": [
    "# instantiate seq2seq model\n",
    "encoder = Encoder(input_dim, hidden_dim, num_layers, dropout_rate)\n",
    "decoder = Decoder(output_dim, hidden_dim, num_layers, dropout_rate)\n",
    "\n",
    "model = Seq2Seq(encoder, decoder, output_dim, horizon)"
   ]
  },
  {
   "cell_type": "markdown",
   "id": "10602d26",
   "metadata": {},
   "source": [
    "# Train Model"
   ]
  },
  {
   "cell_type": "code",
   "execution_count": 26,
   "id": "090cc092",
   "metadata": {},
   "outputs": [
    {
     "name": "stderr",
     "output_type": "stream",
     "text": [
      "GPU available: False, used: False\n",
      "TPU available: False, using: 0 TPU cores\n"
     ]
    }
   ],
   "source": [
    "# define lightning logger and trainner objects\n",
    "tb_logger = pl_loggers.TensorBoardLogger('logs/')\n",
    "trainer = Trainer(max_epochs=1, logger=tb_logger, gpus = 0)"
   ]
  },
  {
   "cell_type": "code",
   "execution_count": 27,
   "id": "ff0f083c",
   "metadata": {},
   "outputs": [
    {
     "name": "stderr",
     "output_type": "stream",
     "text": [
      "\n",
      "  | Name      | Type    | Params\n",
      "--------------------------------------\n",
      "0 | criterion | MSELoss | 0     \n",
      "1 | encoder   | Encoder | 34.3 K\n",
      "2 | decoder   | Decoder | 67.2 K\n",
      "--------------------------------------\n",
      "101 K     Trainable params\n",
      "0         Non-trainable params\n",
      "101 K     Total params\n",
      "0.406     Total estimated model params size (MB)\n"
     ]
    },
    {
     "name": "stdout",
     "output_type": "stream",
     "text": [
      "                                                              "
     ]
    },
    {
     "name": "stderr",
     "output_type": "stream",
     "text": [
      "/Users/raul.martinez3/opt/anaconda3/envs/py36/lib/python3.6/site-packages/pytorch_lightning/trainer/data_loading.py:103: UserWarning: The dataloader, val dataloader 0, does not have many workers which may be a bottleneck. Consider increasing the value of the `num_workers` argument` (try 16 which is the number of cpus on this machine) in the `DataLoader` init to improve performance.\n",
      "  f'The dataloader, {name}, does not have many workers which may be a bottleneck.'\n",
      "/Users/raul.martinez3/opt/anaconda3/envs/py36/lib/python3.6/site-packages/pytorch_lightning/trainer/data_loading.py:103: UserWarning: The dataloader, train dataloader, does not have many workers which may be a bottleneck. Consider increasing the value of the `num_workers` argument` (try 16 which is the number of cpus on this machine) in the `DataLoader` init to improve performance.\n",
      "  f'The dataloader, {name}, does not have many workers which may be a bottleneck.'\n"
     ]
    },
    {
     "name": "stdout",
     "output_type": "stream",
     "text": [
      "Epoch 0:  87%|████████▋ | 1710/1955 [00:40<00:05, 42.10it/s, loss=0.262, v_num=16, train_loss_step=0.531] \n",
      "Validating: 0it [00:00, ?it/s]\u001b[A\n",
      "Epoch 0:  88%|████████▊ | 1714/1955 [00:40<00:05, 42.05it/s, loss=0.262, v_num=16, train_loss_step=0.531]\n",
      "Epoch 0:  88%|████████▊ | 1727/1955 [00:40<00:05, 42.26it/s, loss=0.262, v_num=16, train_loss_step=0.531]\n",
      "Epoch 0:  89%|████████▉ | 1740/1955 [00:40<00:05, 42.47it/s, loss=0.262, v_num=16, train_loss_step=0.531]\n",
      "Epoch 0:  90%|████████▉ | 1753/1955 [00:41<00:04, 42.68it/s, loss=0.262, v_num=16, train_loss_step=0.531]\n",
      "Epoch 0:  90%|█████████ | 1766/1955 [00:41<00:04, 42.88it/s, loss=0.262, v_num=16, train_loss_step=0.531]\n",
      "Epoch 0:  91%|█████████ | 1779/1955 [00:41<00:04, 43.09it/s, loss=0.262, v_num=16, train_loss_step=0.531]\n",
      "Epoch 0:  92%|█████████▏| 1792/1955 [00:41<00:03, 43.29it/s, loss=0.262, v_num=16, train_loss_step=0.531]\n",
      "Epoch 0:  92%|█████████▏| 1805/1955 [00:41<00:03, 43.50it/s, loss=0.262, v_num=16, train_loss_step=0.531]\n",
      "Epoch 0:  93%|█████████▎| 1818/1955 [00:41<00:03, 43.70it/s, loss=0.262, v_num=16, train_loss_step=0.531]\n",
      "Epoch 0:  94%|█████████▎| 1831/1955 [00:41<00:02, 43.90it/s, loss=0.262, v_num=16, train_loss_step=0.531]\n",
      "Epoch 0:  94%|█████████▍| 1844/1955 [00:41<00:02, 44.11it/s, loss=0.262, v_num=16, train_loss_step=0.531]\n",
      "Epoch 0:  95%|█████████▍| 1857/1955 [00:41<00:02, 44.31it/s, loss=0.262, v_num=16, train_loss_step=0.531]\n",
      "Epoch 0:  96%|█████████▌| 1870/1955 [00:42<00:01, 44.50it/s, loss=0.262, v_num=16, train_loss_step=0.531]\n",
      "Epoch 0:  96%|█████████▋| 1883/1955 [00:42<00:01, 44.70it/s, loss=0.262, v_num=16, train_loss_step=0.531]\n",
      "Epoch 0:  97%|█████████▋| 1896/1955 [00:42<00:01, 44.90it/s, loss=0.262, v_num=16, train_loss_step=0.531]\n",
      "Epoch 0:  98%|█████████▊| 1909/1955 [00:42<00:01, 45.10it/s, loss=0.262, v_num=16, train_loss_step=0.531]\n",
      "Epoch 0:  98%|█████████▊| 1922/1955 [00:42<00:00, 45.29it/s, loss=0.262, v_num=16, train_loss_step=0.531]\n",
      "Epoch 0:  99%|█████████▉| 1935/1955 [00:42<00:00, 45.49it/s, loss=0.262, v_num=16, train_loss_step=0.531]\n",
      "Epoch 0: 100%|██████████| 1955/1955 [00:42<00:00, 45.77it/s, loss=0.262, v_num=16, train_loss_step=0.213, train_loss_epoch=0.290]\n",
      "Epoch 0: 100%|██████████| 1955/1955 [00:42<00:00, 45.77it/s, loss=0.262, v_num=16, train_loss_step=0.213, train_loss_epoch=0.290]\n",
      "Training time taken 42.766304\n"
     ]
    },
    {
     "name": "stderr",
     "output_type": "stream",
     "text": [
      "/Users/raul.martinez3/opt/anaconda3/envs/py36/lib/python3.6/site-packages/pytorch_lightning/callbacks/model_checkpoint.py:611: LightningDeprecationWarning: Relying on `self.log('val_loss', ...)` to set the ModelCheckpoint monitor is deprecated in v1.2 and will be removed in v1.4. Please, create your own `mc = ModelCheckpoint(monitor='your_monitor')` and use it as `Trainer(callbacks=[mc])`.\n",
      "  \"Relying on `self.log('val_loss', ...)` to set the ModelCheckpoint monitor is deprecated in v1.2\"\n"
     ]
    }
   ],
   "source": [
    "# train\n",
    "start = time.time()\n",
    "trainer.fit(model, data[\"train_loader\"], data[\"val_loader\"])\n",
    "\n",
    "print(\"Training time taken %f\"%(time.time() - start), flush=True)"
   ]
  },
  {
   "cell_type": "markdown",
   "id": "8e7eea37",
   "metadata": {},
   "source": [
    "# Predict on Test"
   ]
  },
  {
   "cell_type": "code",
   "execution_count": 28,
   "id": "f0476840",
   "metadata": {},
   "outputs": [
    {
     "name": "stdout",
     "output_type": "stream",
     "text": [
      "\n",
      "Validating: 0it [00:00, ?it/s]\u001b[A\n",
      "Validating:   0%|          | 0/245 [00:00<?, ?it/s]\u001b[A\n",
      "Validating:   5%|▍         | 12/245 [00:00<00:01, 119.53it/s]\u001b[A\n",
      "Validating:  11%|█         | 26/245 [00:00<00:01, 126.61it/s]\u001b[A\n",
      "Validating:  16%|█▌        | 39/245 [00:00<00:01, 126.81it/s]\u001b[A\n",
      "Validating:  21%|██        | 52/245 [00:00<00:01, 127.91it/s]\u001b[A\n",
      "Validating:  27%|██▋       | 66/245 [00:00<00:01, 128.94it/s]\u001b[A\n",
      "Validating:  32%|███▏      | 79/245 [00:00<00:01, 128.29it/s]\u001b[A\n",
      "Validating:  38%|███▊      | 92/245 [00:00<00:01, 126.37it/s]\u001b[A\n",
      "Validating:  43%|████▎     | 105/245 [00:00<00:01, 124.78it/s]\u001b[A\n",
      "Validating:  48%|████▊     | 118/245 [00:00<00:01, 125.74it/s]\u001b[A\n",
      "Validating:  53%|█████▎    | 131/245 [00:01<00:00, 125.58it/s]\u001b[A\n",
      "Validating:  59%|█████▉    | 144/245 [00:01<00:00, 125.47it/s]\u001b[A\n",
      "Validating:  64%|██████▍   | 157/245 [00:01<00:00, 124.72it/s]\u001b[A\n",
      "Validating:  69%|██████▉   | 170/245 [00:01<00:00, 125.62it/s]\u001b[A\n",
      "Validating:  75%|███████▍  | 183/245 [00:01<00:00, 125.06it/s]\u001b[A\n",
      "Validating:  80%|████████  | 196/245 [00:01<00:00, 125.69it/s]\u001b[A\n",
      "Validating:  85%|████████▌ | 209/245 [00:01<00:00, 125.94it/s]\u001b[A\n",
      "Validating:  91%|█████████ | 222/245 [00:01<00:00, 125.83it/s]\u001b[A\n",
      "Validating:  96%|█████████▌| 235/245 [00:01<00:00, 126.16it/s]\u001b[A\n",
      "                                                              \u001b[A"
     ]
    },
    {
     "name": "stderr",
     "output_type": "stream",
     "text": [
      "/Users/raul.martinez3/opt/anaconda3/envs/py36/lib/python3.6/site-packages/pytorch_lightning/trainer/data_loading.py:103: UserWarning: The dataloader, test dataloader 0, does not have many workers which may be a bottleneck. Consider increasing the value of the `num_workers` argument` (try 16 which is the number of cpus on this machine) in the `DataLoader` init to improve performance.\n",
      "  f'The dataloader, {name}, does not have many workers which may be a bottleneck.'\n"
     ]
    },
    {
     "name": "stdout",
     "output_type": "stream",
     "text": [
      "--------------------------------------------------------------------------------\n",
      "DATALOADER:0 VALIDATE RESULTS\n",
      "{'val_loss': 0.22709496319293976}\n",
      "--------------------------------------------------------------------------------\n",
      "Testing: 100%|██████████| 489/489 [00:03<00:00, 130.30it/s]\n",
      "--------------------------------------------------------------------------------\n",
      "DATALOADER:0 TEST RESULTS\n",
      "{'test_loss': 0.226201593875885, 'val_loss': 0.22709496319293976}\n",
      "--------------------------------------------------------------------------------\n"
     ]
    },
    {
     "data": {
      "text/plain": [
       "[{'val_loss': 0.22709496319293976, 'test_loss': 0.226201593875885}]"
      ]
     },
     "execution_count": 28,
     "metadata": {},
     "output_type": "execute_result"
    }
   ],
   "source": [
    "# see performance for validation dataset\n",
    "trainer.validate(model, data[\"val_loader\"])\n",
    "\n",
    "# see performance for test dataset\n",
    "trainer.test(model, data[\"test_loader\"])"
   ]
  },
  {
   "cell_type": "code",
   "execution_count": 29,
   "id": "25f0faaf",
   "metadata": {},
   "outputs": [
    {
     "name": "stdout",
     "output_type": "stream",
     "text": [
      "(31255, 12, 1)\n",
      "CPU times: user 6.38 s, sys: 5.22 s, total: 11.6 s\n",
      "Wall time: 3.44 s\n"
     ]
    }
   ],
   "source": [
    "%%time\n",
    "\n",
    "# get predictions for the test dataset\n",
    "input_tensor = torch.tensor(data['x_test']).float()\n",
    "target_tensor = torch.tensor(data['y_test']).float()\n",
    "\n",
    "preds = model(input_tensor, target_tensor).reshape(target_tensor.shape).detach().numpy()\n",
    "\n",
    "print(preds.shape)"
   ]
  },
  {
   "cell_type": "markdown",
   "id": "0478a9ad",
   "metadata": {},
   "source": [
    "# Visualize Test Predictions"
   ]
  },
  {
   "cell_type": "code",
   "execution_count": 30,
   "id": "6cdfc085",
   "metadata": {},
   "outputs": [],
   "source": [
    "# # find padding\n",
    "# batch_size=64\n",
    "\n",
    "# num_padding_train = (batch_size - len(data[\"y_train\"]) % batch_size) % batch_size\n",
    "# num_padding_val = (batch_size - len(data[\"y_val\"]) % batch_size) % batch_size\n",
    "# num_padding_test = (batch_size - len(data[\"y_test\"]) % batch_size) % batch_size\n",
    "\n",
    "# print('Total Padding No: train {}, val {}, test {}'.format(num_padding_train, num_padding_val, num_padding_test))"
   ]
  },
  {
   "cell_type": "code",
   "execution_count": 31,
   "id": "70aeb83e",
   "metadata": {},
   "outputs": [
    {
     "name": "stdout",
     "output_type": "stream",
     "text": [
      "64.4813757798751 8.283976850766777\n"
     ]
    }
   ],
   "source": [
    "# get float values for unscaling values\n",
    "avg = float(x_test.mean())\n",
    "std = float(x_test.std())\n",
    "\n",
    "print(avg, std)"
   ]
  },
  {
   "cell_type": "code",
   "execution_count": 32,
   "id": "c8c94992",
   "metadata": {},
   "outputs": [],
   "source": [
    "def unscale_data(arr, avg, std):\n",
    "    return arr*std+avg"
   ]
  },
  {
   "cell_type": "code",
   "execution_count": 33,
   "id": "de3bddf4",
   "metadata": {},
   "outputs": [
    {
     "name": "stdout",
     "output_type": "stream",
     "text": [
      "(31255, 12, 1)\n",
      "(31255, 12, 1)\n"
     ]
    }
   ],
   "source": [
    "# get unscaled y vectors\n",
    "y_true = unscale_data(data[\"y_test\"], avg, std)\n",
    "y_pred = unscale_data(preds, avg, std)\n",
    "\n",
    "print(y_true.shape)\n",
    "print(y_pred.shape)"
   ]
  },
  {
   "cell_type": "code",
   "execution_count": 34,
   "id": "719f0702",
   "metadata": {},
   "outputs": [],
   "source": [
    "def masked_mae_loss(y_pred, y_true):\n",
    "    mask = (y_true != 0).float()\n",
    "    mask /= mask.mean()\n",
    "\n",
    "    loss = torch.abs(y_pred - y_true)\n",
    "    loss = loss * mask\n",
    "    loss[torch.isnan(loss)] = 0\n",
    "\n",
    "    return loss.mean()"
   ]
  },
  {
   "cell_type": "code",
   "execution_count": 35,
   "id": "e69bc765",
   "metadata": {},
   "outputs": [
    {
     "name": "stdout",
     "output_type": "stream",
     "text": [
      "Masked MAE: 1.74\n"
     ]
    }
   ],
   "source": [
    "# find masked MAE\n",
    "masked_mae = masked_mae_loss(torch.from_numpy(y_pred), torch.from_numpy(y_true))\n",
    "print('Masked MAE: {:.2f}'.format(masked_mae))"
   ]
  },
  {
   "cell_type": "markdown",
   "id": "78053aef",
   "metadata": {},
   "source": [
    "## Single Sequences"
   ]
  },
  {
   "cell_type": "code",
   "execution_count": 57,
   "id": "c3839aa5",
   "metadata": {},
   "outputs": [
    {
     "data": {
      "text/plain": [
       "(50.0, 80.0)"
      ]
     },
     "execution_count": 57,
     "metadata": {},
     "output_type": "execute_result"
    },
    {
     "data": {
      "image/png": "[encoded data removed]",
      "text/plain": [
       "<Figure size 1440x504 with 1 Axes>"
      ]
     },
     "metadata": {
      "needs_background": "light"
     },
     "output_type": "display_data"
    }
   ],
   "source": [
    "import matplotlib.pyplot as plt\n",
    "import os\n",
    "\n",
    "os.environ['KMP_DUPLICATE_LIB_OK']='True'\n",
    "\n",
    "plt.figure(figsize=(20,7))\n",
    "plt.rcParams.update({'font.size': 20})\n",
    "\n",
    "sequence_index_to_plot = 29607 # specify sequence index \n",
    "\n",
    "plt.plot(y_pred[sequence_index_to_plot, :, 0])\n",
    "plt.plot(y_true[sequence_index_to_plot, :, 0])\n",
    "\n",
    "plt.legend(['Predictions (Y pred)', 'Actual (Y true)'], loc='upper right', bbox_to_anchor=(1.27, 1))\n",
    "\n",
    "plt.title('Traffic Sequence Index No. {}, 12 pts Horizon (1hr)'.format(sequence_index_to_plot))\n",
    "plt.xlabel('Ordered Time Series Points (5 mins intervals)')\n",
    "plt.ylabel('Average Speed (MPH)')\n",
    "\n",
    "axes = plt.gca()\n",
    "# axes.set_xlim([xmin,xmax])\n",
    "axes.set_ylim([50,80])"
   ]
  },
  {
   "cell_type": "markdown",
   "id": "33a25e5f",
   "metadata": {},
   "source": [
    "## Multiple Sequences with Single Horizon"
   ]
  },
  {
   "cell_type": "code",
   "execution_count": 61,
   "id": "70ec1a29",
   "metadata": {},
   "outputs": [
    {
     "data": {
      "text/plain": [
       "(0.0, 80.0)"
      ]
     },
     "execution_count": 61,
     "metadata": {},
     "output_type": "execute_result"
    },
    {
     "data": {
      "image/png": "[encoded data removed]",
      "text/plain": [
       "<Figure size 1440x504 with 1 Axes>"
      ]
     },
     "metadata": {
      "needs_background": "light"
     },
     "output_type": "display_data"
    }
   ],
   "source": [
    "plt.figure(figsize=(20,7))\n",
    "plt.rcParams.update({'font.size': 20})\n",
    "\n",
    "min_sequence_index_to_plot = 10000 # min limit for x-axis\n",
    "max_sequence_index_to_plot = 11000 # max limit for x-axis\n",
    "horizon = 5 # select horizon, integer from 1 to 12\n",
    "\n",
    "plt.plot(y_pred[horizon+min_sequence_index_to_plot:max_sequence_index_to_plot+horizon, horizon-1, 0])\n",
    "plt.plot(y_true[min_sequence_index_to_plot:max_sequence_index_to_plot, horizon-1, 0])\n",
    "\n",
    "plt.legend(['Predictions (Y pred)', 'Actual (Y true)'], loc='upper right', bbox_to_anchor=(1.27, 1))\n",
    "\n",
    "plt.title(\"\"\"Traffic Timeseries with Horizon {} (or {} mins), \\\n",
    "Subset from Index No. {} to {}\"\"\".format(horizon,\n",
    "                                                               horizon*5,\n",
    "                                                               min_sequence_index_to_plot,\n",
    "                                                               max_sequence_index_to_plot))\n",
    "plt.xlabel('Ordered Time Series Points (5 mins intervals)')\n",
    "plt.ylabel('Average Speed (MPH)')\n",
    "\n",
    "axes = plt.gca()\n",
    "# axes.set_xlim([xmin,xmax])\n",
    "axes.set_ylim([0,80])"
   ]
  },
  {
   "cell_type": "code",
   "execution_count": null,
   "id": "ec2f8e34",
   "metadata": {},
   "outputs": [],
   "source": []
  }
 ],
 "metadata": {
  "kernelspec": {
   "display_name": "Python 3",
   "language": "python",
   "name": "python3"
  },
  "language_info": {
   "codemirror_mode": {
    "name": "ipython",
    "version": 3
   },
   "file_extension": ".py",
   "mimetype": "text/x-python",
   "name": "python",
   "nbconvert_exporter": "python",
   "pygments_lexer": "ipython3",
   "version": "3.6.13"
  },
  "toc": {
   "base_numbering": 1,
   "nav_menu": {},
   "number_sections": true,
   "sideBar": true,
   "skip_h1_title": false,
   "title_cell": "Table of Contents",
   "title_sidebar": "Contents",
   "toc_cell": false,
   "toc_position": {
    "height": "calc(100% - 180px)",
    "left": "10px",
    "top": "150px",
    "width": "341.333px"
   },
   "toc_section_display": true,
   "toc_window_display": true
  },
  "varInspector": {
   "cols": {
    "lenName": 16,
    "lenType": 16,
    "lenVar": 40
   },
   "kernels_config": {
    "python": {
     "delete_cmd_postfix": "",
     "delete_cmd_prefix": "del ",
     "library": "var_list.py",
     "varRefreshCmd": "print(var_dic_list())"
    },
    "r": {
     "delete_cmd_postfix": ") ",
     "delete_cmd_prefix": "rm(",
     "library": "var_list.r",
     "varRefreshCmd": "cat(var_dic_list()) "
    }
   },
   "types_to_exclude": [
    "module",
    "function",
    "builtin_function_or_method",
    "instance",
    "_Feature"
   ],
   "window_display": false
  }
 },
 "nbformat": 4,
 "nbformat_minor": 5
}
