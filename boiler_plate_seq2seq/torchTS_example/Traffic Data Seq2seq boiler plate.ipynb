{
 "cells": [
  {
   "cell_type": "code",
   "execution_count": 1,
   "metadata": {},
   "outputs": [],
   "source": [
    "import sqlalchemy as sal\n",
    "import pandas as pd\n",
    "from os.path import join\n",
    "import numpy as np\n",
    "\n",
    "import torch"
   ]
  },
  {
   "cell_type": "markdown",
   "metadata": {},
   "source": [
    "# Import data"
   ]
  },
  {
   "cell_type": "markdown",
   "metadata": {},
   "source": [
    "## Relational Database System (RDS) - Option #1"
   ]
  },
  {
   "cell_type": "code",
   "execution_count": 2,
   "metadata": {},
   "outputs": [],
   "source": [
    "# %%time\n",
    "\n",
    "# #parameters of the AWS database\n",
    "# endpoint = \"capstone.clihskgj8i7s.us-west-2.rds.amazonaws.com\"\n",
    "# user=\"group3\"\n",
    "# db=\"db1\"\n",
    "# #pw=getpass.getpass(\"Enter database password\")\n",
    "# pw=open(r'C:\\Users\\giomt\\Documents\\password.txt',\"r\").read().rstrip()\n",
    "\n",
    "# engine = sal.create_engine('postgresql://%s:%s@%s/%s' % (user, pw, endpoint, db))\n",
    "\n",
    "# query=\"\"\"\n",
    "# select timestamp, station, avg_speed, total_flow\n",
    "# from traffic_train\n",
    "# where station in (400714, 400743, 400001)\n",
    "# ;\n",
    "# \"\"\"\n",
    "\n",
    "# df_query_raw=pd.read_sql(query, engine)\n",
    "\n",
    "# print(df_query_raw.shape)\n",
    "# df_query_raw.head()"
   ]
  },
  {
   "cell_type": "markdown",
   "metadata": {},
   "source": [
    "## HDF5 file - Option #2\n",
    "\n",
    "Info about the dataset used below.\n",
    "- source:\n",
    "https://github.com/chnsh/DCRNN_PyTorch\n",
    "\n",
    "- google drive for downloading the file:\n",
    "https://drive.google.com/drive/folders/10FOTa6HXPqX8Pf5WRoRwcFnW9BrNZEIX"
   ]
  },
  {
   "cell_type": "code",
   "execution_count": 3,
   "metadata": {},
   "outputs": [
    {
     "data": {
      "text/plain": [
       "<class 'pandas.io.pytables.HDFStore'>\n",
       "File path: ./pems-bay.h5"
      ]
     },
     "execution_count": 3,
     "metadata": {},
     "output_type": "execute_result"
    }
   ],
   "source": [
    "from pandas import HDFStore\n",
    "\n",
    "filename = \"./pems-bay.h5\"\n",
    "\n",
    "# read store for HDFS\n",
    "store = HDFStore(filename)\n",
    "store"
   ]
  },
  {
   "cell_type": "code",
   "execution_count": 4,
   "metadata": {},
   "outputs": [
    {
     "name": "stdout",
     "output_type": "stream",
     "text": [
      "(156348, 3)\n"
     ]
    },
    {
     "data": {
      "text/html": [
       "<div>\n",
       "<style scoped>\n",
       "    .dataframe tbody tr th:only-of-type {\n",
       "        vertical-align: middle;\n",
       "    }\n",
       "\n",
       "    .dataframe tbody tr th {\n",
       "        vertical-align: top;\n",
       "    }\n",
       "\n",
       "    .dataframe thead th {\n",
       "        text-align: right;\n",
       "    }\n",
       "</style>\n",
       "<table border=\"1\" class=\"dataframe\">\n",
       "  <thead>\n",
       "    <tr style=\"text-align: right;\">\n",
       "      <th></th>\n",
       "      <th>timestamp</th>\n",
       "      <th>station</th>\n",
       "      <th>avg_speed</th>\n",
       "    </tr>\n",
       "  </thead>\n",
       "  <tbody>\n",
       "    <tr>\n",
       "      <th>0</th>\n",
       "      <td>2017-01-01 00:00:00</td>\n",
       "      <td>400714</td>\n",
       "      <td>70.5</td>\n",
       "    </tr>\n",
       "    <tr>\n",
       "      <th>1</th>\n",
       "      <td>2017-01-01 00:00:00</td>\n",
       "      <td>400743</td>\n",
       "      <td>68.8</td>\n",
       "    </tr>\n",
       "    <tr>\n",
       "      <th>2</th>\n",
       "      <td>2017-01-01 00:00:00</td>\n",
       "      <td>400001</td>\n",
       "      <td>71.4</td>\n",
       "    </tr>\n",
       "    <tr>\n",
       "      <th>3</th>\n",
       "      <td>2017-01-01 00:05:00</td>\n",
       "      <td>400714</td>\n",
       "      <td>70.2</td>\n",
       "    </tr>\n",
       "    <tr>\n",
       "      <th>4</th>\n",
       "      <td>2017-01-01 00:05:00</td>\n",
       "      <td>400743</td>\n",
       "      <td>68.7</td>\n",
       "    </tr>\n",
       "  </tbody>\n",
       "</table>\n",
       "</div>"
      ],
      "text/plain": [
       "            timestamp  station  avg_speed\n",
       "0 2017-01-01 00:00:00   400714       70.5\n",
       "1 2017-01-01 00:00:00   400743       68.8\n",
       "2 2017-01-01 00:00:00   400001       71.4\n",
       "3 2017-01-01 00:05:00   400714       70.2\n",
       "4 2017-01-01 00:05:00   400743       68.7"
      ]
     },
     "execution_count": 4,
     "metadata": {},
     "output_type": "execute_result"
    }
   ],
   "source": [
    "# select a subset of all stations\n",
    "stations_list = [400714, 400743, 400001] \n",
    "df_query_raw = store.speed.loc[:, stations_list].stack(\n",
    "                                            ).reset_index(name='avg_speed'\n",
    "                                            ).rename(columns={\"level_0\": \"timestamp\",\n",
    "                                                              \"sensor_id\": \"station\"})\n",
    "\n",
    "# run all stations\n",
    "# df_query_raw = store.speed.stack(\n",
    "#                         ).reset_index(name='avg_speed'\n",
    "#                         ).rename(columns={\"level_0\": \"timestamp\",\n",
    "#                                           \"sensor_id\": \"station\"})\n",
    "\n",
    "print(df_query_raw.shape)\n",
    "df_query_raw.head()"
   ]
  },
  {
   "cell_type": "markdown",
   "metadata": {},
   "source": [
    "## Clean data"
   ]
  },
  {
   "cell_type": "code",
   "execution_count": 5,
   "metadata": {},
   "outputs": [
    {
     "data": {
      "text/plain": [
       "timestamp    0\n",
       "station      0\n",
       "avg_speed    0\n",
       "dtype: int64"
      ]
     },
     "execution_count": 5,
     "metadata": {},
     "output_type": "execute_result"
    }
   ],
   "source": [
    "df_query_raw.isna().sum() # check for na values"
   ]
  },
  {
   "cell_type": "code",
   "execution_count": 6,
   "metadata": {},
   "outputs": [],
   "source": [
    "# fill na values with rolling mean\n",
    "df_query_cleaned = df_query_raw.fillna(df_query_raw.rolling(window=6,min_periods=1).mean())"
   ]
  },
  {
   "cell_type": "code",
   "execution_count": 7,
   "metadata": {},
   "outputs": [
    {
     "data": {
      "text/plain": [
       "timestamp    0\n",
       "station      0\n",
       "avg_speed    0\n",
       "dtype: int64"
      ]
     },
     "execution_count": 7,
     "metadata": {},
     "output_type": "execute_result"
    }
   ],
   "source": [
    "df_query_cleaned.isna().sum() # verify na values are not present"
   ]
  },
  {
   "cell_type": "markdown",
   "metadata": {},
   "source": [
    "## Generate seq2seq sequences"
   ]
  },
  {
   "cell_type": "code",
   "execution_count": 8,
   "metadata": {},
   "outputs": [],
   "source": [
    "def generate_seq2seq_data(df, horizon, window, features):\n",
    "    \n",
    "    idx_cols = ['station','timestamp']\n",
    "\n",
    "    df = df.set_index(idx_cols).sort_values(by=idx_cols)\n",
    "\n",
    "    features_tensor_list = []\n",
    "    for f in features:\n",
    "        print(f)\n",
    "        \n",
    "        ts_seq_list = []\n",
    "        for s in df.index.unique(level=0):\n",
    "#             print(s)\n",
    "            values = df.loc[s][f].values\n",
    "            \n",
    "            for i in range(len(values)-horizon*2):\n",
    "                arr = np.array(values[i:i+horizon*2])\n",
    "                ts_seq_list.append(torch.from_numpy(arr.reshape(horizon*2,1)))\n",
    "\n",
    "        sequence_tensor = torch.stack(ts_seq_list, dim=0)\n",
    "\n",
    "        features_tensor_list.append(sequence_tensor)\n",
    "\n",
    "    return torch.cat(features_tensor_list, dim=2)"
   ]
  },
  {
   "cell_type": "code",
   "execution_count": 9,
   "metadata": {},
   "outputs": [
    {
     "name": "stdout",
     "output_type": "stream",
     "text": [
      "avg_speed\n",
      "torch.Size([156276, 24, 1])\n",
      "Wall time: 692 ms\n"
     ]
    }
   ],
   "source": [
    "%%time\n",
    "data_seq2seq = generate_seq2seq_data(df_query_cleaned,\n",
    "                                     horizon=12, \n",
    "                                     window=1, \n",
    "#                                     features=['avg_speed', 'total_flow'])\n",
    "                                     features=['avg_speed'])\n",
    "\n",
    "print(data_seq2seq.shape)"
   ]
  },
  {
   "cell_type": "code",
   "execution_count": 10,
   "metadata": {},
   "outputs": [],
   "source": [
    "# %%time\n",
    "\n",
    "# # Order sequences in chronological order - Option #1\n",
    "# total_len = len(data_seq2seq)\n",
    "# No_stations = len(df_query_cleaned.station.unique())\n",
    "# samples_per_station = int(total_len/No_stations)\n",
    "\n",
    "# data_list = []\n",
    "# for i in range(samples_per_station):\n",
    "#     for idx_s in range(No_stations):\n",
    "#         idx = samples_per_station*idx_s + i\n",
    "#         data_list.append(data_seq2seq[idx, :, :])\n",
    "    \n",
    "# data_seq2seq = torch.stack(data_list, dim=0)\n",
    "\n",
    "# print(data_seq2seq.shape)"
   ]
  },
  {
   "cell_type": "code",
   "execution_count": 11,
   "metadata": {},
   "outputs": [],
   "source": [
    "# %%time\n",
    "\n",
    "# from random import randrange\n",
    "\n",
    "# # Randomize sequences order - Option #2\n",
    "# list_ = [i for i in range(len(data_seq2seq))]\n",
    "# random.shuffle(list_)\n",
    "\n",
    "# data_list = []\n",
    "# for idx in list_:\n",
    "#     data_list.append(data_seq2seq[idx, :, :])\n",
    "    \n",
    "# data_seq2seq = torch.stack(data_list, dim=0)\n",
    "# print(data_seq2seq.shape)"
   ]
  },
  {
   "cell_type": "markdown",
   "metadata": {},
   "source": [
    "## Train, Validation, and Test split"
   ]
  },
  {
   "cell_type": "code",
   "execution_count": 12,
   "metadata": {},
   "outputs": [
    {
     "name": "stdout",
     "output_type": "stream",
     "text": [
      "torch.Size([156276, 12, 1]) torch.Size([156276, 12, 1])\n"
     ]
    }
   ],
   "source": [
    "# generate x and y vectors\n",
    "x = data_seq2seq[:, :12, :]\n",
    "y = data_seq2seq[:, 12:, :]\n",
    "\n",
    "print(x.shape, y.shape)"
   ]
  },
  {
   "cell_type": "code",
   "execution_count": 13,
   "metadata": {},
   "outputs": [
    {
     "name": "stdout",
     "output_type": "stream",
     "text": [
      "Total number of samples: 156276\n",
      "Percentage for train: 70.00\n",
      "Percentage for val: 10.00\n",
      "Percentage for test: 20.00\n"
     ]
    }
   ],
   "source": [
    "# define split ratio for train, val and test\n",
    "num_samples = x.shape[0]\n",
    "num_test = round(num_samples * 0.2)\n",
    "num_train = round(num_samples * 0.7)\n",
    "num_val = num_samples - num_test - num_train\n",
    "\n",
    "print('Total number of samples: {}'.format(num_samples))\n",
    "print('Percentage for train: {:.2f}'.format(100*num_train/num_samples))\n",
    "print('Percentage for val: {:.2f}'.format(100*num_val/num_samples))\n",
    "print('Percentage for test: {:.2f}'.format(100*num_test/num_samples))"
   ]
  },
  {
   "cell_type": "code",
   "execution_count": 14,
   "metadata": {},
   "outputs": [
    {
     "name": "stdout",
     "output_type": "stream",
     "text": [
      "torch.Size([109393, 12, 1]) torch.Size([109393, 12, 1])\n",
      "torch.Size([15628, 12, 1]) torch.Size([15628, 12, 1])\n",
      "torch.Size([31255, 12, 1]) torch.Size([31255, 12, 1])\n"
     ]
    }
   ],
   "source": [
    "# train\n",
    "x_train = x[:num_train]\n",
    "y_train = y[:num_train]\n",
    "\n",
    "# val\n",
    "x_val = x[num_train: num_train + num_val] \n",
    "y_val = y[num_train: num_train + num_val]\n",
    "\n",
    "# test\n",
    "x_test = x[-num_test:] \n",
    "y_test = y[-num_test:]\n",
    "\n",
    "print(x_train.shape, y_train.shape)\n",
    "print(x_val.shape, y_val.shape)\n",
    "print(x_test.shape, y_test.shape)"
   ]
  },
  {
   "cell_type": "code",
   "execution_count": 15,
   "metadata": {},
   "outputs": [
    {
     "name": "stdout",
     "output_type": "stream",
     "text": [
      "train x:  torch.Size([109393, 12, 1]) y: torch.Size([109393, 12, 1])\n",
      "val x:  torch.Size([15628, 12, 1]) y: torch.Size([15628, 12, 1])\n",
      "test x:  torch.Size([31255, 12, 1]) y: torch.Size([31255, 12, 1])\n"
     ]
    }
   ],
   "source": [
    "# output train, val, and test NPZ files\n",
    "output_dir = './'\n",
    "\n",
    "for cat in [\"train\", \"val\", \"test\"]:\n",
    "    \n",
    "    _x = locals()[\"x_\" + cat] \n",
    "    _y = locals()[\"y_\" + cat]\n",
    "    \n",
    "    print(cat, \"x: \", _x.shape, \"y:\", _y.shape)\n",
    "    \n",
    "    np.savez_compressed(\n",
    "        join(output_dir, \"%s.npz\" % cat),\n",
    "        x=_x,\n",
    "        y=_y\n",
    "    )"
   ]
  },
  {
   "cell_type": "markdown",
   "metadata": {},
   "source": [
    "# Train seq2seq model"
   ]
  },
  {
   "cell_type": "code",
   "execution_count": 16,
   "metadata": {},
   "outputs": [],
   "source": [
    "from torchts.utils import data as utils\n",
    "from torchts.nn.models.seq2seq import Encoder, Decoder, Seq2Seq \n",
    "\n",
    "import time\n",
    "from pytorch_lightning import Trainer\n",
    "from pytorch_lightning import loggers as pl_loggers"
   ]
  },
  {
   "cell_type": "code",
   "execution_count": 17,
   "metadata": {},
   "outputs": [],
   "source": [
    "dataset_dir = './'\n",
    "\n",
    "# define hyper-parameters\n",
    "# learning_rate = 0.01 # this parameter is currently hard coded in the optimizer\n",
    "dropout_rate = 0.8\n",
    "num_layers = 1\n",
    "hidden_dim = 64\n",
    "input_dim = 1\n",
    "output_dim = 1\n",
    "horizon = 12\n",
    "batch_size = 64"
   ]
  },
  {
   "cell_type": "code",
   "execution_count": 18,
   "metadata": {},
   "outputs": [
    {
     "name": "stdout",
     "output_type": "stream",
     "text": [
      "Wall time: 92.8 ms\n"
     ]
    },
    {
     "data": {
      "text/plain": [
       "dict_keys(['x_train', 'y_train', 'x_val', 'y_val', 'x_test', 'y_test', 'train_loader', 'val_loader', 'test_loader', 'scaler'])"
      ]
     },
     "execution_count": 18,
     "metadata": {},
     "output_type": "execute_result"
    }
   ],
   "source": [
    "%%time\n",
    "# load train, val and test NPZ files\n",
    "data = utils.load_dataset(dataset_dir, batch_size=batch_size, test_batch_size=batch_size)\n",
    "\n",
    "data.keys()"
   ]
  },
  {
   "cell_type": "code",
   "execution_count": 19,
   "metadata": {},
   "outputs": [
    {
     "name": "stderr",
     "output_type": "stream",
     "text": [
      "C:\\Users\\giomt\\anaconda3\\lib\\site-packages\\torch\\nn\\modules\\rnn.py:62: UserWarning: dropout option adds dropout after all but last recurrent layer, so non-zero dropout expects num_layers greater than 1, but got dropout=0.8 and num_layers=1\n",
      "  warnings.warn(\"dropout option adds dropout after all but last \"\n"
     ]
    }
   ],
   "source": [
    "# instantiate seq2seq model\n",
    "encoder = Encoder(input_dim, hidden_dim, num_layers, dropout_rate)\n",
    "decoder = Decoder(output_dim, hidden_dim, num_layers, dropout_rate)\n",
    "\n",
    "model = Seq2Seq(encoder, decoder, output_dim, horizon)"
   ]
  },
  {
   "cell_type": "code",
   "execution_count": 20,
   "metadata": {},
   "outputs": [
    {
     "name": "stderr",
     "output_type": "stream",
     "text": [
      "GPU available: False, used: False\n",
      "TPU available: False, using: 0 TPU cores\n"
     ]
    }
   ],
   "source": [
    "# define lightning logger and trainner objects\n",
    "tb_logger = pl_loggers.TensorBoardLogger('logs/')\n",
    "trainer = Trainer(max_epochs=1, logger=tb_logger, gpus = 0)"
   ]
  },
  {
   "cell_type": "code",
   "execution_count": 21,
   "metadata": {},
   "outputs": [
    {
     "name": "stderr",
     "output_type": "stream",
     "text": [
      "\n",
      "  | Name      | Type    | Params\n",
      "--------------------------------------\n",
      "0 | criterion | MSELoss | 0     \n",
      "1 | encoder   | Encoder | 34.3 K\n",
      "2 | decoder   | Decoder | 67.2 K\n",
      "--------------------------------------\n",
      "101 K     Trainable params\n",
      "0         Non-trainable params\n",
      "101 K     Total params\n",
      "0.406     Total estimated model params size (MB)\n"
     ]
    },
    {
     "data": {
      "application/vnd.jupyter.widget-view+json": {
       "model_id": "",
       "version_major": 2,
       "version_minor": 0
      },
      "text/plain": [
       "HBox(children=(HTML(value='Validation sanity check'), FloatProgress(value=1.0, bar_style='info', layout=Layout…"
      ]
     },
     "metadata": {},
     "output_type": "display_data"
    },
    {
     "name": "stderr",
     "output_type": "stream",
     "text": [
      "C:\\Users\\giomt\\anaconda3\\lib\\site-packages\\pytorch_lightning\\utilities\\distributed.py:69: UserWarning: The dataloader, val dataloader 0, does not have many workers which may be a bottleneck. Consider increasing the value of the `num_workers` argument` (try 16 which is the number of cpus on this machine) in the `DataLoader` init to improve performance.\n",
      "  warnings.warn(*args, **kwargs)\n",
      "C:\\Users\\giomt\\anaconda3\\lib\\site-packages\\pytorch_lightning\\utilities\\distributed.py:69: UserWarning: The dataloader, train dataloader, does not have many workers which may be a bottleneck. Consider increasing the value of the `num_workers` argument` (try 16 which is the number of cpus on this machine) in the `DataLoader` init to improve performance.\n",
      "  warnings.warn(*args, **kwargs)\n"
     ]
    },
    {
     "data": {
      "application/vnd.jupyter.widget-view+json": {
       "model_id": "d17fb3ca6a264688a5883b2a257ecad3",
       "version_major": 2,
       "version_minor": 0
      },
      "text/plain": [
       "HBox(children=(HTML(value='Training'), FloatProgress(value=1.0, bar_style='info', layout=Layout(flex='2'), max…"
      ]
     },
     "metadata": {},
     "output_type": "display_data"
    },
    {
     "data": {
      "application/vnd.jupyter.widget-view+json": {
       "model_id": "",
       "version_major": 2,
       "version_minor": 0
      },
      "text/plain": [
       "HBox(children=(HTML(value='Validating'), FloatProgress(value=1.0, bar_style='info', layout=Layout(flex='2'), m…"
      ]
     },
     "metadata": {},
     "output_type": "display_data"
    },
    {
     "name": "stdout",
     "output_type": "stream",
     "text": [
      "\n",
      "Training time taken 42.631040\n"
     ]
    }
   ],
   "source": [
    "# train\n",
    "start = time.time()\n",
    "trainer.fit(model, data[\"train_loader\"], data[\"val_loader\"])\n",
    "\n",
    "print(\"Training time taken %f\"%(time.time() - start), flush=True)"
   ]
  },
  {
   "cell_type": "markdown",
   "metadata": {},
   "source": [
    "# Predict on Test"
   ]
  },
  {
   "cell_type": "code",
   "execution_count": 22,
   "metadata": {},
   "outputs": [
    {
     "data": {
      "application/vnd.jupyter.widget-view+json": {
       "model_id": "",
       "version_major": 2,
       "version_minor": 0
      },
      "text/plain": [
       "HBox(children=(HTML(value='Validating'), FloatProgress(value=1.0, bar_style='info', layout=Layout(flex='2'), m…"
      ]
     },
     "metadata": {},
     "output_type": "display_data"
    },
    {
     "name": "stdout",
     "output_type": "stream",
     "text": [
      "--------------------------------------------------------------------------------\n",
      "DATALOADER:0 VALIDATE RESULTS\n",
      "{'val_loss': 0.22519823908805847}\n",
      "--------------------------------------------------------------------------------\n"
     ]
    },
    {
     "name": "stderr",
     "output_type": "stream",
     "text": [
      "C:\\Users\\giomt\\anaconda3\\lib\\site-packages\\pytorch_lightning\\utilities\\distributed.py:69: UserWarning: The dataloader, test dataloader 0, does not have many workers which may be a bottleneck. Consider increasing the value of the `num_workers` argument` (try 16 which is the number of cpus on this machine) in the `DataLoader` init to improve performance.\n",
      "  warnings.warn(*args, **kwargs)\n"
     ]
    },
    {
     "data": {
      "application/vnd.jupyter.widget-view+json": {
       "model_id": "81950139b2f14414b36557a1b24b4cfa",
       "version_major": 2,
       "version_minor": 0
      },
      "text/plain": [
       "HBox(children=(HTML(value='Testing'), FloatProgress(value=1.0, bar_style='info', layout=Layout(flex='2'), max=…"
      ]
     },
     "metadata": {},
     "output_type": "display_data"
    },
    {
     "name": "stdout",
     "output_type": "stream",
     "text": [
      "\n",
      "--------------------------------------------------------------------------------\n",
      "DATALOADER:0 TEST RESULTS\n",
      "{'test_loss': 0.22831566631793976, 'val_loss': 0.22519823908805847}\n",
      "--------------------------------------------------------------------------------\n"
     ]
    },
    {
     "data": {
      "text/plain": [
       "[{'val_loss': 0.22519823908805847, 'test_loss': 0.22831566631793976}]"
      ]
     },
     "execution_count": 22,
     "metadata": {},
     "output_type": "execute_result"
    }
   ],
   "source": [
    "# see performance for validation dataset\n",
    "trainer.validate(model, data[\"val_loader\"])\n",
    "\n",
    "# see performance for test dataset\n",
    "trainer.test(model, data[\"test_loader\"])"
   ]
  },
  {
   "cell_type": "code",
   "execution_count": 23,
   "metadata": {},
   "outputs": [
    {
     "name": "stdout",
     "output_type": "stream",
     "text": [
      "(31255, 12, 1)\n",
      "Wall time: 2.36 s\n"
     ]
    }
   ],
   "source": [
    "%%time\n",
    "\n",
    "# get predictions for the test dataset\n",
    "input_tensor = torch.tensor(data['x_test']).float()\n",
    "target_tensor = torch.tensor(data['y_test']).float()\n",
    "\n",
    "preds = model(input_tensor, target_tensor).reshape(target_tensor.shape).detach().numpy()\n",
    "\n",
    "print(preds.shape)"
   ]
  },
  {
   "cell_type": "markdown",
   "metadata": {},
   "source": [
    "# Visualize test predictions"
   ]
  },
  {
   "cell_type": "code",
   "execution_count": 32,
   "metadata": {},
   "outputs": [],
   "source": [
    "# # find padding\n",
    "# batch_size=64\n",
    "\n",
    "# num_padding_train = (batch_size - len(data[\"y_train\"]) % batch_size) % batch_size\n",
    "# num_padding_val = (batch_size - len(data[\"y_val\"]) % batch_size) % batch_size\n",
    "# num_padding_test = (batch_size - len(data[\"y_test\"]) % batch_size) % batch_size\n",
    "\n",
    "# print('Total Padding No: train {}, val {}, test {}'.format(num_padding_train, num_padding_val, num_padding_test))"
   ]
  },
  {
   "cell_type": "code",
   "execution_count": 25,
   "metadata": {},
   "outputs": [
    {
     "name": "stdout",
     "output_type": "stream",
     "text": [
      "64.4813757798751 8.283976850766777\n"
     ]
    }
   ],
   "source": [
    "# get float values for unscaling values\n",
    "avg = float(x_test.mean())\n",
    "std = float(x_test.std())\n",
    "\n",
    "print(avg, std)"
   ]
  },
  {
   "cell_type": "code",
   "execution_count": 26,
   "metadata": {},
   "outputs": [],
   "source": [
    "def unscale_data(arr, avg, std):\n",
    "    return arr*std+avg"
   ]
  },
  {
   "cell_type": "code",
   "execution_count": 27,
   "metadata": {},
   "outputs": [
    {
     "name": "stdout",
     "output_type": "stream",
     "text": [
      "(31255, 12, 1)\n",
      "(31255, 12, 1)\n"
     ]
    }
   ],
   "source": [
    "# get unscaled y vectors\n",
    "y_true = unscale_data(data[\"y_test\"], avg, std)\n",
    "y_pred = unscale_data(preds, avg, std)\n",
    "\n",
    "print(y_true.shape)\n",
    "print(y_pred.shape)"
   ]
  },
  {
   "cell_type": "code",
   "execution_count": 28,
   "metadata": {},
   "outputs": [],
   "source": [
    "def masked_mae_loss(y_pred, y_true):\n",
    "    mask = (y_true != 0).float()\n",
    "    mask /= mask.mean()\n",
    "\n",
    "    loss = torch.abs(y_pred - y_true)\n",
    "    loss = loss * mask\n",
    "    loss[torch.isnan(loss)] = 0\n",
    "\n",
    "    return loss.mean()"
   ]
  },
  {
   "cell_type": "code",
   "execution_count": 29,
   "metadata": {},
   "outputs": [
    {
     "name": "stdout",
     "output_type": "stream",
     "text": [
      "Masked MAE: 1.73\n"
     ]
    }
   ],
   "source": [
    "# find masked MAE\n",
    "masked_mae = masked_mae_loss(torch.from_numpy(y_pred), torch.from_numpy(y_true))\n",
    "print('Masked MAE: {:.2f}'.format(masked_mae))"
   ]
  },
  {
   "cell_type": "markdown",
   "metadata": {},
   "source": [
    "## Single sequences"
   ]
  },
  {
   "cell_type": "code",
   "execution_count": 30,
   "metadata": {},
   "outputs": [
    {
     "data": {
      "text/plain": [
       "(50.0, 80.0)"
      ]
     },
     "execution_count": 30,
     "metadata": {},
     "output_type": "execute_result"
    },
    {
     "data": {
      "image/png": "[encoded data removed]",
      "text/plain": [
       "<Figure size 1440x504 with 1 Axes>"
      ]
     },
     "metadata": {
      "needs_background": "light"
     },
     "output_type": "display_data"
    }
   ],
   "source": [
    "import matplotlib.pyplot as plt\n",
    "import os\n",
    "\n",
    "os.environ['KMP_DUPLICATE_LIB_OK']='True'\n",
    "\n",
    "plt.figure(figsize=(20,7))\n",
    "plt.rcParams.update({'font.size': 20})\n",
    "\n",
    "sequence_index_to_plot = 29607 # specify sequence index \n",
    "\n",
    "plt.plot(y_pred[sequence_index_to_plot, :, 0])\n",
    "plt.plot(y_true[sequence_index_to_plot, :, 0])\n",
    "\n",
    "plt.legend(['Predictions', 'Actual'], loc='upper right', bbox_to_anchor=(1.2, 1))\n",
    "\n",
    "axes = plt.gca()\n",
    "# axes.set_xlim([xmin,xmax])\n",
    "axes.set_ylim([50,80])"
   ]
  },
  {
   "cell_type": "markdown",
   "metadata": {},
   "source": [
    "## Multiple sequences with single horizon"
   ]
  },
  {
   "cell_type": "code",
   "execution_count": 31,
   "metadata": {},
   "outputs": [
    {
     "data": {
      "text/plain": [
       "(0.0, 80.0)"
      ]
     },
     "execution_count": 31,
     "metadata": {},
     "output_type": "execute_result"
    },
    {
     "data": {
      "image/png": "[encoded data removed]",
      "text/plain": [
       "<Figure size 1440x504 with 1 Axes>"
      ]
     },
     "metadata": {
      "needs_background": "light"
     },
     "output_type": "display_data"
    }
   ],
   "source": [
    "plt.figure(figsize=(20,7))\n",
    "plt.rcParams.update({'font.size': 20})\n",
    "\n",
    "min_sequence_index_to_plot = 10000 # min limit for x-axis\n",
    "max_sequence_index_to_plot = 11000 # max limit for x-axis\n",
    "horizon = 5 # select horizon, integer from 1 to 12\n",
    "\n",
    "plt.plot(y_pred[horizon+min_sequence_index_to_plot:max_sequence_index_to_plot+horizon, horizon-1, 0])\n",
    "plt.plot(y_true[min_sequence_index_to_plot:max_sequence_index_to_plot, horizon-1, 0])\n",
    "\n",
    "plt.legend(['Predictions', 'Actual'], loc='upper right', bbox_to_anchor=(1.2, 1))\n",
    "\n",
    "axes = plt.gca()\n",
    "# axes.set_xlim([xmin,xmax])\n",
    "axes.set_ylim([0,80])"
   ]
  },
  {
   "cell_type": "code",
   "execution_count": null,
   "metadata": {},
   "outputs": [],
   "source": []
  }
 ],
 "metadata": {
  "kernelspec": {
   "display_name": "Python 3",
   "language": "python",
   "name": "python3"
  },
  "language_info": {
   "codemirror_mode": {
    "name": "ipython",
    "version": 3
   },
   "file_extension": ".py",
   "mimetype": "text/x-python",
   "name": "python",
   "nbconvert_exporter": "python",
   "pygments_lexer": "ipython3",
   "version": "3.8.5"
  },
  "toc": {
   "base_numbering": 1,
   "nav_menu": {},
   "number_sections": true,
   "sideBar": true,
   "skip_h1_title": false,
   "title_cell": "Table of Contents",
   "title_sidebar": "Contents",
   "toc_cell": false,
   "toc_position": {
    "height": "calc(100% - 180px)",
    "left": "10px",
    "top": "150px",
    "width": "341.333px"
   },
   "toc_section_display": true,
   "toc_window_display": true
  },
  "varInspector": {
   "cols": {
    "lenName": 16,
    "lenType": 16,
    "lenVar": 40
   },
   "kernels_config": {
    "python": {
     "delete_cmd_postfix": "",
     "delete_cmd_prefix": "del ",
     "library": "var_list.py",
     "varRefreshCmd": "print(var_dic_list())"
    },
    "r": {
     "delete_cmd_postfix": ") ",
     "delete_cmd_prefix": "rm(",
     "library": "var_list.r",
     "varRefreshCmd": "cat(var_dic_list()) "
    }
   },
   "types_to_exclude": [
    "module",
    "function",
    "builtin_function_or_method",
    "instance",
    "_Feature"
   ],
   "window_display": false
  }
 },
 "nbformat": 4,
 "nbformat_minor": 5
}
