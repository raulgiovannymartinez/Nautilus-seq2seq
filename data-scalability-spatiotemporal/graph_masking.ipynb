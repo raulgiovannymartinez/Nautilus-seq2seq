{
 "cells": [
  {
   "cell_type": "code",
   "execution_count": 1,
   "metadata": {},
   "outputs": [],
   "source": [
    "import pickle"
   ]
  },
  {
   "cell_type": "markdown",
   "metadata": {},
   "source": [
    "### Impute missing values according to horizon"
   ]
  },
  {
   "cell_type": "code",
   "execution_count": 2,
   "metadata": {},
   "outputs": [],
   "source": [
    "horizon = 12\n",
    "\n",
    "# d2020 = pickle.load(open('./data/bay_2020.pkl','rb'))\n",
    "\n",
    "# rolling_data = d2020.rolling(horizon,min_periods=1).mean()\n",
    "# rolling_data.fillna(rolling_data.mean(),inplace = True)\n",
    "# d2020.fillna(rolling_data[d2020.isnull()],inplace = True)"
   ]
  },
  {
   "cell_type": "markdown",
   "metadata": {},
   "source": [
    "### Class that builds DCRNN data with NetworkX graph as an input"
   ]
  },
  {
   "cell_type": "code",
   "execution_count": 3,
   "metadata": {},
   "outputs": [],
   "source": [
    "import numpy as np\n",
    "import os\n",
    "import torch\n",
    "import pandas as pd\n",
    "import networkx\n",
    "\n",
    "class create_dcrnn_data():\n",
    "    '''\n",
    "    This class takes a networkx graph with temporal values modeled into them and generates the adjacency matrix\n",
    "    and adjacency matrix required by the DCRNN model.\n",
    "    \n",
    "    Each node is expected to have a series with index as datetime.\n",
    "    '''\n",
    "    \n",
    "    def __init__(self,graph,**kwargs):\n",
    "        self.graph = graph\n",
    "        self.outdir = kwargs.get('outdir','')\n",
    "        self.horizon = kwargs.get('horizon',12)\n",
    "        self.df = kwargs.get('data',None)\n",
    "        \n",
    "    def _createDataFrame(self):\n",
    "        frame = list()\n",
    "#         for i in range(self.graph.number_of_nodes()):\n",
    "        for i in list(subgraph.nodes):\n",
    "            frame.append(self.graph.nodes[i]['values'])\n",
    "        return pd.concat(frame,axis = 1).sort_index(inplace = False)\n",
    "    \n",
    "    def generateAdjacencyMatrix(self):\n",
    "        nodes = [self.graph.nodes[i]['sensor'] for i in self.graph.nodes]\n",
    "        sensor_ind = {self.graph.nodes[i]['sensor']:i for i in self.graph.nodes}\n",
    "        matrix = [nodes,sensor_ind,networkx.adjacency_matrix(self.graph)]\n",
    "        try:\n",
    "            pickle.dump(matrix,open(os.path.join(self.outdir,'newest_adj_max.pkl'),'wb'))\n",
    "        except Error as e:\n",
    "            print(e)\n",
    "\n",
    "    def generate_graph_seq2seq_io_data(self,df, x_offsets, y_offsets, add_time_in_day=False, add_day_in_week=False, scaler=None):\n",
    "        \"\"\"\n",
    "        Return:\n",
    "        # x: (epoch_size, input_length, num_nodes, input_dim)\n",
    "        # y: (epoch_size, output_length, num_nodes, output_dim)\n",
    "        \"\"\"\n",
    "\n",
    "        num_samples, num_nodes = df.shape\n",
    "        data = np.expand_dims(df.values, axis=-1)\n",
    "        data_list = [data]\n",
    "        \n",
    "        if add_time_in_day:\n",
    "            time_ind = (df.index.values - df.index.values.astype(\"datetime64[D]\")) / np.timedelta64(1, \"D\")\n",
    "            time_in_day = np.tile(time_ind, [1, num_nodes, 1]).transpose((2, 1, 0))\n",
    "            data_list.append(time_in_day)\n",
    "        if add_day_in_week:\n",
    "            day_in_week = np.zeros(shape=(num_samples, num_nodes, 7))\n",
    "            day_in_week[np.arange(num_samples), :, df.index.dayofweek] = 1\n",
    "            data_list.append(day_in_week)\n",
    "\n",
    "        data = np.concatenate(data_list, axis=-1)\n",
    "        \n",
    "        # epoch_len = num_samples + min(x_offsets) - max(y_offsets)\n",
    "        x, y = [], []\n",
    "        \n",
    "        # t is the index of the last observation.\n",
    "        min_t = abs(min(x_offsets))\n",
    "        max_t = abs(num_samples - abs(max(y_offsets)))  # Exclusive\n",
    "        \n",
    "        for t in range(min_t, max_t):\n",
    "            x_t = data[t + x_offsets, ...]\n",
    "            y_t = data[t + y_offsets, ...]\n",
    "            x.append(x_t)\n",
    "            y.append(y_t)\n",
    "        x = np.stack(x, axis=0)\n",
    "        y = np.stack(y, axis=0)\n",
    "        return x, y\n",
    "\n",
    "    \n",
    "    def generate_train_val_test(self):\n",
    "        if not isinstance(self.df,pd.DataFrame):\n",
    "            df = self._createDataFrame()\n",
    "        else:\n",
    "            df = self.df\n",
    "        # Make sure to test what happens at horizon = 0\n",
    "        x_offsets = np.sort(\n",
    "            np.concatenate((np.arange(1 + (-1 * self.horizon), 1, 1),))\n",
    "        )\n",
    "        \n",
    "        # Predict the next one hour\n",
    "        y_offsets = np.sort(np.arange(1, self.horizon + 1, 1))\n",
    "\n",
    "        # x: (num_samples, input_length, num_nodes, input_dim)\n",
    "        # y: (num_samples, output_length, num_nodes, output_dim)\n",
    "        x, y = self.generate_graph_seq2seq_io_data(\n",
    "            df,\n",
    "            x_offsets=x_offsets,\n",
    "            y_offsets=y_offsets,\n",
    "            add_time_in_day=True, # Add flag for this\n",
    "            add_day_in_week=False,\n",
    "        )\n",
    "\n",
    "        print(\"x shape: \", x.shape, \", y shape: \", y.shape)\n",
    "\n",
    "        num_samples = x.shape[0]\n",
    "        num_test = round(num_samples * 0.2)\n",
    "        num_train = round(num_samples * 0.7)\n",
    "        num_val = num_samples - num_test - num_train\n",
    "\n",
    "\n",
    "        x_train, y_train = x[:num_train], y[:num_train]\n",
    "        \n",
    "        x_val, y_val = (\n",
    "            x[num_train: num_train + num_val],\n",
    "            y[num_train: num_train + num_val],\n",
    "        )\n",
    "\n",
    "        x_test, y_test = x[-num_test:], y[-num_test:]\n",
    "\n",
    "        datasets = {}\n",
    "        for cat in [\"train\", \"val\", \"test\"]:\n",
    "            _x, _y = locals()[\"x_\" + cat], locals()[\"y_\" + cat]\n",
    "            print(cat, \"x: \", _x.shape, \"y:\", _y.shape)\n",
    "            np.savez_compressed(\n",
    "                os.path.join(self.outdir, \"%s.npz\" % cat),\n",
    "                x=_x,\n",
    "                y=_y,\n",
    "                x_offsets=x_offsets.reshape(list(x_offsets.shape) + [1]),\n",
    "                y_offsets=y_offsets.reshape(list(y_offsets.shape) + [1]),\n",
    "            )\n",
    "            datasets[\"x_\" + cat] = _x\n",
    "            datasets[\"y_\" + cat] = _y\n",
    "\n",
    "        return None"
   ]
  },
  {
   "cell_type": "markdown",
   "metadata": {},
   "source": [
    "### Load and create graph"
   ]
  },
  {
   "cell_type": "code",
   "execution_count": 4,
   "metadata": {},
   "outputs": [
    {
     "name": "stdout",
     "output_type": "stream",
     "text": [
      "Python 3.7.9\n"
     ]
    }
   ],
   "source": [
    "!python --version"
   ]
  },
  {
   "cell_type": "code",
   "execution_count": 5,
   "metadata": {},
   "outputs": [],
   "source": [
    "g = pickle.load(open('./data/full_graph.pkl','rb'))"
   ]
  },
  {
   "cell_type": "code",
   "execution_count": 6,
   "metadata": {},
   "outputs": [
    {
     "data": {
      "text/plain": [
       "networkx.classes.graph.Graph"
      ]
     },
     "execution_count": 6,
     "metadata": {},
     "output_type": "execute_result"
    }
   ],
   "source": [
    "type(g)"
   ]
  },
  {
   "cell_type": "code",
   "execution_count": 7,
   "metadata": {},
   "outputs": [
    {
     "data": {
      "text/plain": [
       "320"
      ]
     },
     "execution_count": 7,
     "metadata": {},
     "output_type": "execute_result"
    }
   ],
   "source": [
    "len(g)"
   ]
  },
  {
   "cell_type": "code",
   "execution_count": 8,
   "metadata": {},
   "outputs": [
    {
     "data": {
      "text/plain": [
       "{'values': 0\n",
       " 2020-01-01 00:05:00    71.7\n",
       " 2020-01-01 00:10:00    71.7\n",
       " 2020-01-01 00:15:00    71.8\n",
       " 2020-01-01 00:20:00    71.6\n",
       " 2020-01-01 00:25:00    71.3\n",
       "                        ... \n",
       " 2020-06-29 23:40:00    71.3\n",
       " 2020-06-29 23:45:00    71.5\n",
       " 2020-06-29 23:50:00    71.3\n",
       " 2020-06-29 23:55:00    69.5\n",
       " 2020-06-30 00:00:00    70.4\n",
       " Name: 400001, Length: 52113, dtype: float64, 'sensor': '400001'}"
      ]
     },
     "execution_count": 8,
     "metadata": {},
     "output_type": "execute_result"
    }
   ],
   "source": [
    "g.nodes[0]"
   ]
  },
  {
   "cell_type": "code",
   "execution_count": 9,
   "metadata": {},
   "outputs": [
    {
     "data": {
      "text/plain": [
       "'400001'"
      ]
     },
     "execution_count": 9,
     "metadata": {},
     "output_type": "execute_result"
    }
   ],
   "source": [
    "g.nodes[0]['sensor']"
   ]
  },
  {
   "cell_type": "code",
   "execution_count": 31,
   "metadata": {},
   "outputs": [],
   "source": [
    "# sample_25\n",
    "\n",
    "sample_25 = [\n",
    "    400017,\n",
    "400040,\n",
    "400052,\n",
    "400059,\n",
    "400065,\n",
    "400073,\n",
    "400085,\n",
    "400100,\n",
    "400148,\n",
    "400178,\n",
    "400221,\n",
    "400240,\n",
    "400257,\n",
    "400258,\n",
    "400268,\n",
    "400278,\n",
    "400280,\n",
    "400298,\n",
    "400336,\n",
    "400418,\n",
    "400436,\n",
    "400457,\n",
    "400461,\n",
    "400485,\n",
    "400519,\n",
    "400637,\n",
    "400649,\n",
    "400654,\n",
    "400664,\n",
    "400690,\n",
    "400700,\n",
    "400713,\n",
    "400714,\n",
    "400715,\n",
    "400717,\n",
    "400750,\n",
    "400772,\n",
    "400792,\n",
    "400822,\n",
    "400832,\n",
    "400837,\n",
    "400842,\n",
    "400916,\n",
    "400934,\n",
    "400995,\n",
    "401129,\n",
    "401154,\n",
    "401163,\n",
    "401167,\n",
    "401327,\n",
    "401388,\n",
    "401400,\n",
    "401457,\n",
    "401495,\n",
    "401555,\n",
    "401567,\n",
    "401597,\n",
    "401606,\n",
    "401611,\n",
    "401942,\n",
    "401943,\n",
    "401957,\n",
    "401958,\n",
    "402067,\n",
    "403329,\n",
    "403414,\n",
    "403419,\n",
    "404370,\n",
    "404451,\n",
    "404452,\n",
    "404453,\n",
    "404461,\n",
    "404462,\n",
    "405613,\n",
    "405619,\n",
    "405701,\n",
    "407710,\n",
    "407711,\n",
    "414284,\n",
    "414694\n",
    "]"
   ]
  },
  {
   "cell_type": "code",
   "execution_count": 32,
   "metadata": {},
   "outputs": [],
   "source": [
    "sample_50 = [\n",
    "    400017,\n",
    "400040,\n",
    "400052,\n",
    "400057,\n",
    "400059,\n",
    "400065,\n",
    "400073,\n",
    "400084,\n",
    "400085,\n",
    "400097,\n",
    "400100,\n",
    "400147,\n",
    "400148,\n",
    "400178,\n",
    "400185,\n",
    "400209,\n",
    "400213,\n",
    "400221,\n",
    "400222,\n",
    "400236,\n",
    "400240,\n",
    "400257,\n",
    "400258,\n",
    "400268,\n",
    "400278,\n",
    "400280,\n",
    "400292,\n",
    "400298,\n",
    "400336,\n",
    "400400,\n",
    "400414,\n",
    "400418,\n",
    "400429,\n",
    "400436,\n",
    "400457,\n",
    "400461,\n",
    "400464,\n",
    "400485,\n",
    "400499,\n",
    "400507,\n",
    "400514,\n",
    "400519,\n",
    "400560,\n",
    "400563,\n",
    "400582,\n",
    "400637,\n",
    "400648,\n",
    "400649,\n",
    "400654,\n",
    "400664,\n",
    "400665,\n",
    "400673,\n",
    "400677,\n",
    "400688,\n",
    "400690,\n",
    "400700,\n",
    "400709,\n",
    "400713,\n",
    "400714,\n",
    "400715,\n",
    "400717,\n",
    "400723,\n",
    "400750,\n",
    "400772,\n",
    "400792,\n",
    "400799,\n",
    "400804,\n",
    "400822,\n",
    "400823,\n",
    "400828,\n",
    "400832,\n",
    "400837,\n",
    "400842,\n",
    "400907,\n",
    "400916,\n",
    "400934,\n",
    "400951,\n",
    "400952,\n",
    "400953,\n",
    "400995,\n",
    "401129,\n",
    "401154,\n",
    "401163,\n",
    "401167,\n",
    "401210,\n",
    "401224,\n",
    "401327,\n",
    "401388,\n",
    "401391,\n",
    "401400,\n",
    "401403,\n",
    "401457,\n",
    "401495,\n",
    "401555,\n",
    "401567,\n",
    "401597,\n",
    "401606,\n",
    "401611,\n",
    "401655,\n",
    "401808,\n",
    "401809,\n",
    "401810,\n",
    "401811,\n",
    "401845,\n",
    "401846,\n",
    "401890,\n",
    "401891,\n",
    "401906,\n",
    "401908,\n",
    "401942,\n",
    "401943,\n",
    "401957,\n",
    "401958,\n",
    "402056,\n",
    "402057,\n",
    "402058,\n",
    "402059,\n",
    "402067,\n",
    "402359,\n",
    "402360,\n",
    "402361,\n",
    "403329,\n",
    "403401,\n",
    "403402,\n",
    "403404,\n",
    "403406,\n",
    "403409,\n",
    "403412,\n",
    "403414,\n",
    "403419,\n",
    "404370,\n",
    "404434,\n",
    "404435,\n",
    "404444,\n",
    "404451,\n",
    "404452,\n",
    "404453,\n",
    "404461,\n",
    "404462,\n",
    "404640,\n",
    "405613,\n",
    "405619,\n",
    "405701,\n",
    "407165,\n",
    "407172,\n",
    "407173,\n",
    "407194,\n",
    "407321,\n",
    "407331,\n",
    "407344,\n",
    "407370,\n",
    "407373,\n",
    "407710,\n",
    "407711,\n",
    "408907,\n",
    "408911,\n",
    "413877,\n",
    "413878,\n",
    "414284,\n",
    "414694\n",
    "]"
   ]
  },
  {
   "cell_type": "code",
   "execution_count": 33,
   "metadata": {},
   "outputs": [],
   "source": [
    "sample_75 = [\n",
    "400001,\n",
    "400017,\n",
    "400030,\n",
    "400040,\n",
    "400045,\n",
    "400052,\n",
    "400057,\n",
    "400059,\n",
    "400065,\n",
    "400069,\n",
    "400073,\n",
    "400084,\n",
    "400085,\n",
    "400097,\n",
    "400100,\n",
    "400109,\n",
    "400122,\n",
    "400147,\n",
    "400148,\n",
    "400160,\n",
    "400172,\n",
    "400178,\n",
    "400185,\n",
    "400206,\n",
    "400209,\n",
    "400213,\n",
    "400221,\n",
    "400222,\n",
    "400227,\n",
    "400236,\n",
    "400240,\n",
    "400246,\n",
    "400253,\n",
    "400257,\n",
    "400258,\n",
    "400268,\n",
    "400278,\n",
    "400280,\n",
    "400292,\n",
    "400298,\n",
    "400336,\n",
    "400343,\n",
    "400353,\n",
    "400372,\n",
    "400394,\n",
    "400400,\n",
    "400414,\n",
    "400418,\n",
    "400429,\n",
    "400436,\n",
    "400440,\n",
    "400457,\n",
    "400461,\n",
    "400464,\n",
    "400479,\n",
    "400485,\n",
    "400499,\n",
    "400507,\n",
    "400508,\n",
    "400514,\n",
    "400519,\n",
    "400528,\n",
    "400560,\n",
    "400563,\n",
    "400582,\n",
    "400586,\n",
    "400637,\n",
    "400648,\n",
    "400649,\n",
    "400654,\n",
    "400664,\n",
    "400665,\n",
    "400668,\n",
    "400673,\n",
    "400677,\n",
    "400688,\n",
    "400690,\n",
    "400700,\n",
    "400709,\n",
    "400713,\n",
    "400714,\n",
    "400715,\n",
    "400717,\n",
    "400723,\n",
    "400750,\n",
    "400760,\n",
    "400772,\n",
    "400792,\n",
    "400794,\n",
    "400799,\n",
    "400804,\n",
    "400822,\n",
    "400823,\n",
    "400828,\n",
    "400832,\n",
    "400837,\n",
    "400842,\n",
    "400863,\n",
    "400895,\n",
    "400907,\n",
    "400911,\n",
    "400916,\n",
    "400922,\n",
    "400934,\n",
    "400951,\n",
    "400952,\n",
    "400953,\n",
    "400964,\n",
    "400965,\n",
    "400971,\n",
    "400995,\n",
    "400996,\n",
    "401129,\n",
    "401154,\n",
    "401163,\n",
    "401167,\n",
    "401210,\n",
    "401224,\n",
    "401327,\n",
    "401388,\n",
    "401391,\n",
    "401400,\n",
    "401403,\n",
    "401440,\n",
    "401457,\n",
    "401495,\n",
    "401541,\n",
    "401555,\n",
    "401560,\n",
    "401567,\n",
    "401597,\n",
    "401606,\n",
    "401611,\n",
    "401655,\n",
    "401808,\n",
    "401809,\n",
    "401810,\n",
    "401811,\n",
    "401816,\n",
    "401817,\n",
    "401845,\n",
    "401846,\n",
    "401890,\n",
    "401891,\n",
    "401906,\n",
    "401908,\n",
    "401942,\n",
    "401943,\n",
    "401957,\n",
    "401958,\n",
    "401994,\n",
    "402056,\n",
    "402057,\n",
    "402058,\n",
    "402059,\n",
    "402060,\n",
    "402061,\n",
    "402067,\n",
    "402117,\n",
    "402118,\n",
    "402121,\n",
    "402281,\n",
    "402282,\n",
    "402283,\n",
    "402284,\n",
    "402359,\n",
    "402360,\n",
    "402361,\n",
    "402362,\n",
    "402363,\n",
    "402364,\n",
    "402365,\n",
    "402366,\n",
    "402367,\n",
    "403225,\n",
    "403265,\n",
    "403329,\n",
    "403401,\n",
    "403402,\n",
    "403404,\n",
    "403406,\n",
    "403409,\n",
    "403412,\n",
    "403414,\n",
    "403419,\n",
    "404370,\n",
    "404434,\n",
    "404435,\n",
    "404444,\n",
    "404451,\n",
    "404452,\n",
    "404453,\n",
    "404461,\n",
    "404462,\n",
    "404521,\n",
    "404640,\n",
    "404753,\n",
    "404759,\n",
    "405613,\n",
    "405619,\n",
    "405701,\n",
    "407165,\n",
    "407172,\n",
    "407173,\n",
    "407194,\n",
    "407321,\n",
    "407323,\n",
    "407325,\n",
    "407328,\n",
    "407331,\n",
    "407335,\n",
    "407336,\n",
    "407337,\n",
    "407339,\n",
    "407341,\n",
    "407342,\n",
    "407344,\n",
    "407348,\n",
    "407352,\n",
    "407360,\n",
    "407361,\n",
    "407364,\n",
    "407367,\n",
    "407370,\n",
    "407372,\n",
    "407373,\n",
    "407374,\n",
    "407710,\n",
    "407711,\n",
    "408907,\n",
    "408911,\n",
    "409524,\n",
    "409525,\n",
    "409526,\n",
    "409528,\n",
    "409529,\n",
    "413877,\n",
    "413878,\n",
    "414284,\n",
    "414694,\n",
    "]"
   ]
  },
  {
   "cell_type": "code",
   "execution_count": 38,
   "metadata": {},
   "outputs": [
    {
     "data": {
      "text/plain": [
       "80"
      ]
     },
     "execution_count": 38,
     "metadata": {},
     "output_type": "execute_result"
    }
   ],
   "source": [
    "len(set(sample_75) - set(sample_50)) "
   ]
  },
  {
   "cell_type": "code",
   "execution_count": 39,
   "metadata": {},
   "outputs": [
    {
     "data": {
      "text/plain": [
       "160"
      ]
     },
     "execution_count": 39,
     "metadata": {},
     "output_type": "execute_result"
    }
   ],
   "source": [
    "len(set(sample_75) - set(sample_25)) "
   ]
  },
  {
   "cell_type": "markdown",
   "metadata": {},
   "source": [
    "### Create Sub graph (Masked Graph)"
   ]
  },
  {
   "cell_type": "code",
   "execution_count": 40,
   "metadata": {},
   "outputs": [
    {
     "data": {
      "text/plain": [
       "'400001'"
      ]
     },
     "execution_count": 40,
     "metadata": {},
     "output_type": "execute_result"
    }
   ],
   "source": [
    "g.nodes[0]['sensor']"
   ]
  },
  {
   "cell_type": "code",
   "execution_count": 42,
   "metadata": {},
   "outputs": [
    {
     "name": "stdout",
     "output_type": "stream",
     "text": [
      "80\n",
      "[1, 3, 5, 7, 8, 10, 12, 16, 21, 28, 34, 39, 42, 43, 44, 46, 47, 50, 52, 59, 62, 65, 66, 69, 74, 83, 86, 87, 88, 95, 96, 98, 99, 100, 101, 104, 106, 108, 112, 115, 116, 117, 125, 127, 136, 139, 140, 141, 142, 145, 147, 149, 152, 155, 159, 161, 162, 163, 164, 181, 182, 184, 185, 196, 224, 231, 232, 233, 237, 238, 239, 240, 241, 250, 251, 252, 305, 306, 318, 319]\n"
     ]
    }
   ],
   "source": [
    "# sample 25\n",
    "nodes = [i for i in g.nodes if int(g.nodes[i]['sensor']) in sample_25]\n",
    "print(len(nodes))\n",
    "print(nodes)"
   ]
  },
  {
   "cell_type": "code",
   "execution_count": 51,
   "metadata": {},
   "outputs": [
    {
     "name": "stdout",
     "output_type": "stream",
     "text": [
      "160\n",
      "[1, 3, 5, 6, 7, 8, 10, 11, 12, 15, 16, 20, 21, 28, 29, 32, 33, 34, 35, 37, 39, 42, 43, 44, 46, 47, 48, 50, 52, 57, 58, 59, 60, 62, 65, 66, 67, 69, 70, 71, 73, 74, 77, 78, 81, 83, 85, 86, 87, 88, 89, 91, 92, 94, 95, 96, 97, 98, 99, 100, 101, 102, 104, 106, 108, 110, 111, 112, 113, 114, 115, 116, 117, 123, 125, 127, 128, 129, 130, 136, 139, 140, 141, 142, 143, 144, 145, 147, 148, 149, 150, 152, 155, 159, 161, 162, 163, 164, 165, 166, 167, 168, 169, 172, 173, 174, 175, 176, 177, 181, 182, 184, 185, 190, 191, 192, 193, 196, 209, 210, 211, 224, 225, 226, 227, 228, 229, 230, 231, 232, 233, 234, 235, 236, 237, 238, 239, 240, 241, 247, 250, 251, 252, 260, 261, 262, 275, 281, 285, 293, 301, 303, 305, 306, 307, 308, 316, 317, 318, 319]\n"
     ]
    }
   ],
   "source": [
    "# sample 50\n",
    "nodes = [i for i in g.nodes if int(g.nodes[i]['sensor']) in sample_50]\n",
    "print(len(nodes))\n",
    "print(nodes)"
   ]
  },
  {
   "cell_type": "code",
   "execution_count": 57,
   "metadata": {},
   "outputs": [
    {
     "name": "stdout",
     "output_type": "stream",
     "text": [
      "240\n",
      "[0, 1, 2, 3, 4, 5, 6, 7, 8, 9, 10, 11, 12, 15, 16, 18, 19, 20, 21, 24, 26, 28, 29, 31, 32, 33, 34, 35, 36, 37, 39, 40, 41, 42, 43, 44, 46, 47, 48, 50, 52, 53, 54, 55, 56, 57, 58, 59, 60, 62, 63, 65, 66, 67, 68, 69, 70, 71, 72, 73, 74, 75, 77, 78, 81, 82, 83, 85, 86, 87, 88, 89, 90, 91, 92, 94, 95, 96, 97, 98, 99, 100, 101, 102, 104, 105, 106, 108, 109, 110, 111, 112, 113, 114, 115, 116, 117, 118, 121, 123, 124, 125, 126, 127, 128, 129, 130, 131, 132, 134, 136, 137, 139, 140, 141, 142, 143, 144, 145, 147, 148, 149, 150, 151, 152, 155, 158, 159, 160, 161, 162, 163, 164, 165, 166, 167, 168, 169, 170, 171, 172, 173, 174, 175, 176, 177, 181, 182, 184, 185, 186, 190, 191, 192, 193, 194, 195, 196, 197, 198, 201, 202, 203, 204, 205, 209, 210, 211, 212, 213, 214, 215, 216, 217, 222, 223, 224, 225, 226, 227, 228, 229, 230, 231, 232, 233, 234, 235, 236, 237, 238, 239, 240, 241, 242, 247, 248, 249, 250, 251, 252, 260, 261, 262, 275, 281, 282, 283, 284, 285, 287, 288, 289, 290, 291, 292, 293, 294, 295, 297, 298, 299, 300, 301, 302, 303, 304, 305, 306, 307, 308, 309, 310, 311, 312, 313, 316, 317, 318, 319]\n"
     ]
    }
   ],
   "source": [
    "# sample 75\n",
    "nodes = [i for i in g.nodes if int(g.nodes[i]['sensor']) in sample_75]\n",
    "print(len(nodes))\n",
    "print(nodes)"
   ]
  },
  {
   "cell_type": "code",
   "execution_count": 58,
   "metadata": {},
   "outputs": [],
   "source": [
    "'''\n",
    "Replace with your masking logic\n",
    "'''\n",
    "# nodes = list(range(len(g)))\n",
    "\n",
    "subgraph = g.subgraph(nodes)"
   ]
  },
  {
   "cell_type": "code",
   "execution_count": 59,
   "metadata": {},
   "outputs": [],
   "source": [
    "# subgraph.nodes[20]"
   ]
  },
  {
   "cell_type": "markdown",
   "metadata": {},
   "source": [
    "### Flush out Input data for DCRNN"
   ]
  },
  {
   "cell_type": "code",
   "execution_count": 60,
   "metadata": {},
   "outputs": [],
   "source": [
    "# list(subgraph.nodes)"
   ]
  },
  {
   "cell_type": "code",
   "execution_count": 61,
   "metadata": {},
   "outputs": [
    {
     "name": "stdout",
     "output_type": "stream",
     "text": [
      "x shape:  (52090, 12, 240, 2) , y shape:  (52090, 12, 240, 2)\n",
      "train x:  (36463, 12, 240, 2) y: (36463, 12, 240, 2)\n",
      "val x:  (5209, 12, 240, 2) y: (5209, 12, 240, 2)\n",
      "test x:  (10418, 12, 240, 2) y: (10418, 12, 240, 2)\n",
      "Wall time: 9min 1s\n"
     ]
    }
   ],
   "source": [
    "%%time\n",
    "outdir = ''\n",
    "\n",
    "c = create_dcrnn_data(subgraph, outdir = '', horizon = 12)\n",
    "\n",
    "c.generate_train_val_test()\n",
    "c.generateAdjacencyMatrix()"
   ]
  },
  {
   "cell_type": "markdown",
   "metadata": {},
   "source": [
    "### Now train DCRNN using this data"
   ]
  },
  {
   "cell_type": "code",
   "execution_count": null,
   "metadata": {},
   "outputs": [],
   "source": []
  }
 ],
 "metadata": {
  "kernelspec": {
   "display_name": "Python 3",
   "language": "python",
   "name": "python3"
  },
  "language_info": {
   "codemirror_mode": {
    "name": "ipython",
    "version": 3
   },
   "file_extension": ".py",
   "mimetype": "text/x-python",
   "name": "python",
   "nbconvert_exporter": "python",
   "pygments_lexer": "ipython3",
   "version": "3.7.9"
  },
  "toc": {
   "base_numbering": 1,
   "nav_menu": {},
   "number_sections": true,
   "sideBar": true,
   "skip_h1_title": false,
   "title_cell": "Table of Contents",
   "title_sidebar": "Contents",
   "toc_cell": false,
   "toc_position": {},
   "toc_section_display": true,
   "toc_window_display": false
  },
  "varInspector": {
   "cols": {
    "lenName": 16,
    "lenType": 16,
    "lenVar": 40
   },
   "kernels_config": {
    "python": {
     "delete_cmd_postfix": "",
     "delete_cmd_prefix": "del ",
     "library": "var_list.py",
     "varRefreshCmd": "print(var_dic_list())"
    },
    "r": {
     "delete_cmd_postfix": ") ",
     "delete_cmd_prefix": "rm(",
     "library": "var_list.r",
     "varRefreshCmd": "cat(var_dic_list()) "
    }
   },
   "types_to_exclude": [
    "module",
    "function",
    "builtin_function_or_method",
    "instance",
    "_Feature"
   ],
   "window_display": false
  }
 },
 "nbformat": 4,
 "nbformat_minor": 2
}
