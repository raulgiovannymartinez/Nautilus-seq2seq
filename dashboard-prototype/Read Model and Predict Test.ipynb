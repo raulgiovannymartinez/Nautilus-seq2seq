{
 "cells": [
  {
   "cell_type": "code",
   "execution_count": 2,
   "metadata": {},
   "outputs": [],
   "source": [
    "import os\n",
    "import matplotlib.pyplot as plt\n",
    "import pickle\n",
    "import numpy as np\n"
   ]
  },
  {
   "cell_type": "code",
   "execution_count": 3,
   "metadata": {},
   "outputs": [],
   "source": [
    "os.chdir(r'C:\\Users\\rmartinez4\\Box\\Personal Git\\DCRNN_PyTorch')"
   ]
  },
  {
   "cell_type": "code",
   "execution_count": 4,
   "metadata": {},
   "outputs": [
    {
     "data": {
      "text/plain": [
       "'C:\\\\Users\\\\rmartinez4\\\\Box\\\\Personal Git\\\\DCRNN_PyTorch'"
      ]
     },
     "execution_count": 4,
     "metadata": {},
     "output_type": "execute_result"
    }
   ],
   "source": [
    "os.getcwd()"
   ]
  },
  {
   "cell_type": "markdown",
   "metadata": {},
   "source": [
    "# read adjacency matrix"
   ]
  },
  {
   "cell_type": "code",
   "execution_count": 26,
   "metadata": {},
   "outputs": [],
   "source": [
    "g = pickle.load(open('./adj_mx/newest_adj_max_75.pkl','rb'))"
   ]
  },
  {
   "cell_type": "code",
   "execution_count": 45,
   "metadata": {},
   "outputs": [
    {
     "data": {
      "text/plain": [
       "['400001',\n",
       " '400017',\n",
       " '400030',\n",
       " '400040',\n",
       " '400045',\n",
       " '400052',\n",
       " '400057',\n",
       " '400059',\n",
       " '400065',\n",
       " '400069',\n",
       " '400073',\n",
       " '400084',\n",
       " '400085',\n",
       " '400097',\n",
       " '400100',\n",
       " '400109',\n",
       " '400122',\n",
       " '400147',\n",
       " '400148',\n",
       " '400160',\n",
       " '400172',\n",
       " '400178',\n",
       " '400185',\n",
       " '400206',\n",
       " '400209',\n",
       " '400213',\n",
       " '400221',\n",
       " '400222',\n",
       " '400227',\n",
       " '400236',\n",
       " '400240',\n",
       " '400246',\n",
       " '400253',\n",
       " '400257',\n",
       " '400258',\n",
       " '400268',\n",
       " '400278',\n",
       " '400280',\n",
       " '400292',\n",
       " '400298',\n",
       " '400336',\n",
       " '400343',\n",
       " '400353',\n",
       " '400372',\n",
       " '400394',\n",
       " '400400',\n",
       " '400414',\n",
       " '400418',\n",
       " '400429',\n",
       " '400436',\n",
       " '400440',\n",
       " '400457',\n",
       " '400461',\n",
       " '400464',\n",
       " '400479',\n",
       " '400485',\n",
       " '400499',\n",
       " '400507',\n",
       " '400508',\n",
       " '400514',\n",
       " '400519',\n",
       " '400528',\n",
       " '400560',\n",
       " '400563',\n",
       " '400582',\n",
       " '400586',\n",
       " '400637',\n",
       " '400648',\n",
       " '400649',\n",
       " '400654',\n",
       " '400664',\n",
       " '400665',\n",
       " '400668',\n",
       " '400673',\n",
       " '400677',\n",
       " '400688',\n",
       " '400690',\n",
       " '400700',\n",
       " '400709',\n",
       " '400713',\n",
       " '400714',\n",
       " '400715',\n",
       " '400717',\n",
       " '400723',\n",
       " '400750',\n",
       " '400760',\n",
       " '400772',\n",
       " '400792',\n",
       " '400794',\n",
       " '400799',\n",
       " '400804',\n",
       " '400822',\n",
       " '400823',\n",
       " '400828',\n",
       " '400832',\n",
       " '400837',\n",
       " '400842',\n",
       " '400863',\n",
       " '400895',\n",
       " '400907',\n",
       " '400911',\n",
       " '400916',\n",
       " '400922',\n",
       " '400934',\n",
       " '400951',\n",
       " '400952',\n",
       " '400953',\n",
       " '400964',\n",
       " '400965',\n",
       " '400971',\n",
       " '400995',\n",
       " '400996',\n",
       " '401129',\n",
       " '401154',\n",
       " '401163',\n",
       " '401167',\n",
       " '401210',\n",
       " '401224',\n",
       " '401327',\n",
       " '401388',\n",
       " '401391',\n",
       " '401400',\n",
       " '401403',\n",
       " '401440',\n",
       " '401457',\n",
       " '401495',\n",
       " '401541',\n",
       " '401555',\n",
       " '401560',\n",
       " '401567',\n",
       " '401597',\n",
       " '401606',\n",
       " '401611',\n",
       " '401655',\n",
       " '401808',\n",
       " '401809',\n",
       " '401810',\n",
       " '401811',\n",
       " '401816',\n",
       " '401817',\n",
       " '401845',\n",
       " '401846',\n",
       " '401890',\n",
       " '401891',\n",
       " '401906',\n",
       " '401908',\n",
       " '401942',\n",
       " '401943',\n",
       " '401957',\n",
       " '401958',\n",
       " '401994',\n",
       " '402056',\n",
       " '402057',\n",
       " '402058',\n",
       " '402059',\n",
       " '402060',\n",
       " '402061',\n",
       " '402067',\n",
       " '402117',\n",
       " '402118',\n",
       " '402121',\n",
       " '402281',\n",
       " '402282',\n",
       " '402283',\n",
       " '402284',\n",
       " '402359',\n",
       " '402360',\n",
       " '402361',\n",
       " '402362',\n",
       " '402363',\n",
       " '402364',\n",
       " '402365',\n",
       " '402366',\n",
       " '402367',\n",
       " '403225',\n",
       " '403265',\n",
       " '403329',\n",
       " '403401',\n",
       " '403402',\n",
       " '403404',\n",
       " '403406',\n",
       " '403409',\n",
       " '403412',\n",
       " '403414',\n",
       " '403419',\n",
       " '404370',\n",
       " '404434',\n",
       " '404435',\n",
       " '404444',\n",
       " '404451',\n",
       " '404452',\n",
       " '404453',\n",
       " '404461',\n",
       " '404462',\n",
       " '404521',\n",
       " '404640',\n",
       " '404753',\n",
       " '404759',\n",
       " '405613',\n",
       " '405619',\n",
       " '405701',\n",
       " '407165',\n",
       " '407172',\n",
       " '407173',\n",
       " '407194',\n",
       " '407321',\n",
       " '407323',\n",
       " '407325',\n",
       " '407328',\n",
       " '407331',\n",
       " '407335',\n",
       " '407336',\n",
       " '407337',\n",
       " '407339',\n",
       " '407341',\n",
       " '407342',\n",
       " '407344',\n",
       " '407348',\n",
       " '407352',\n",
       " '407360',\n",
       " '407361',\n",
       " '407364',\n",
       " '407367',\n",
       " '407370',\n",
       " '407372',\n",
       " '407373',\n",
       " '407374',\n",
       " '407710',\n",
       " '407711',\n",
       " '408907',\n",
       " '408911',\n",
       " '409524',\n",
       " '409525',\n",
       " '409526',\n",
       " '409528',\n",
       " '409529',\n",
       " '413877',\n",
       " '413878',\n",
       " '414284',\n",
       " '414694']"
      ]
     },
     "execution_count": 45,
     "metadata": {},
     "output_type": "execute_result"
    }
   ],
   "source": [
    "g[0]"
   ]
  },
  {
   "cell_type": "code",
   "execution_count": 46,
   "metadata": {},
   "outputs": [
    {
     "data": {
      "text/plain": [
       "{'400001': 0,\n",
       " '400017': 1,\n",
       " '400030': 2,\n",
       " '400040': 3,\n",
       " '400045': 4,\n",
       " '400052': 5,\n",
       " '400057': 6,\n",
       " '400059': 7,\n",
       " '400065': 8,\n",
       " '400069': 9,\n",
       " '400073': 10,\n",
       " '400084': 11,\n",
       " '400085': 12,\n",
       " '400097': 15,\n",
       " '400100': 16,\n",
       " '400109': 18,\n",
       " '400122': 19,\n",
       " '400147': 20,\n",
       " '400148': 21,\n",
       " '400160': 24,\n",
       " '400172': 26,\n",
       " '400178': 28,\n",
       " '400185': 29,\n",
       " '400206': 31,\n",
       " '400209': 32,\n",
       " '400213': 33,\n",
       " '400221': 34,\n",
       " '400222': 35,\n",
       " '400227': 36,\n",
       " '400236': 37,\n",
       " '400240': 39,\n",
       " '400246': 40,\n",
       " '400253': 41,\n",
       " '400257': 42,\n",
       " '400258': 43,\n",
       " '400268': 44,\n",
       " '400278': 46,\n",
       " '400280': 47,\n",
       " '400292': 48,\n",
       " '400298': 50,\n",
       " '400336': 52,\n",
       " '400343': 53,\n",
       " '400353': 54,\n",
       " '400372': 55,\n",
       " '400394': 56,\n",
       " '400400': 57,\n",
       " '400414': 58,\n",
       " '400418': 59,\n",
       " '400429': 60,\n",
       " '400436': 62,\n",
       " '400440': 63,\n",
       " '400457': 65,\n",
       " '400461': 66,\n",
       " '400464': 67,\n",
       " '400479': 68,\n",
       " '400485': 69,\n",
       " '400499': 70,\n",
       " '400507': 71,\n",
       " '400508': 72,\n",
       " '400514': 73,\n",
       " '400519': 74,\n",
       " '400528': 75,\n",
       " '400560': 77,\n",
       " '400563': 78,\n",
       " '400582': 81,\n",
       " '400586': 82,\n",
       " '400637': 83,\n",
       " '400648': 85,\n",
       " '400649': 86,\n",
       " '400654': 87,\n",
       " '400664': 88,\n",
       " '400665': 89,\n",
       " '400668': 90,\n",
       " '400673': 91,\n",
       " '400677': 92,\n",
       " '400688': 94,\n",
       " '400690': 95,\n",
       " '400700': 96,\n",
       " '400709': 97,\n",
       " '400713': 98,\n",
       " '400714': 99,\n",
       " '400715': 100,\n",
       " '400717': 101,\n",
       " '400723': 102,\n",
       " '400750': 104,\n",
       " '400760': 105,\n",
       " '400772': 106,\n",
       " '400792': 108,\n",
       " '400794': 109,\n",
       " '400799': 110,\n",
       " '400804': 111,\n",
       " '400822': 112,\n",
       " '400823': 113,\n",
       " '400828': 114,\n",
       " '400832': 115,\n",
       " '400837': 116,\n",
       " '400842': 117,\n",
       " '400863': 118,\n",
       " '400895': 121,\n",
       " '400907': 123,\n",
       " '400911': 124,\n",
       " '400916': 125,\n",
       " '400922': 126,\n",
       " '400934': 127,\n",
       " '400951': 128,\n",
       " '400952': 129,\n",
       " '400953': 130,\n",
       " '400964': 131,\n",
       " '400965': 132,\n",
       " '400971': 134,\n",
       " '400995': 136,\n",
       " '400996': 137,\n",
       " '401129': 139,\n",
       " '401154': 140,\n",
       " '401163': 141,\n",
       " '401167': 142,\n",
       " '401210': 143,\n",
       " '401224': 144,\n",
       " '401327': 145,\n",
       " '401388': 147,\n",
       " '401391': 148,\n",
       " '401400': 149,\n",
       " '401403': 150,\n",
       " '401440': 151,\n",
       " '401457': 152,\n",
       " '401495': 155,\n",
       " '401541': 158,\n",
       " '401555': 159,\n",
       " '401560': 160,\n",
       " '401567': 161,\n",
       " '401597': 162,\n",
       " '401606': 163,\n",
       " '401611': 164,\n",
       " '401655': 165,\n",
       " '401808': 166,\n",
       " '401809': 167,\n",
       " '401810': 168,\n",
       " '401811': 169,\n",
       " '401816': 170,\n",
       " '401817': 171,\n",
       " '401845': 172,\n",
       " '401846': 173,\n",
       " '401890': 174,\n",
       " '401891': 175,\n",
       " '401906': 176,\n",
       " '401908': 177,\n",
       " '401942': 181,\n",
       " '401943': 182,\n",
       " '401957': 184,\n",
       " '401958': 185,\n",
       " '401994': 186,\n",
       " '402056': 190,\n",
       " '402057': 191,\n",
       " '402058': 192,\n",
       " '402059': 193,\n",
       " '402060': 194,\n",
       " '402061': 195,\n",
       " '402067': 196,\n",
       " '402117': 197,\n",
       " '402118': 198,\n",
       " '402121': 201,\n",
       " '402281': 202,\n",
       " '402282': 203,\n",
       " '402283': 204,\n",
       " '402284': 205,\n",
       " '402359': 209,\n",
       " '402360': 210,\n",
       " '402361': 211,\n",
       " '402362': 212,\n",
       " '402363': 213,\n",
       " '402364': 214,\n",
       " '402365': 215,\n",
       " '402366': 216,\n",
       " '402367': 217,\n",
       " '403225': 222,\n",
       " '403265': 223,\n",
       " '403329': 224,\n",
       " '403401': 225,\n",
       " '403402': 226,\n",
       " '403404': 227,\n",
       " '403406': 228,\n",
       " '403409': 229,\n",
       " '403412': 230,\n",
       " '403414': 231,\n",
       " '403419': 232,\n",
       " '404370': 233,\n",
       " '404434': 234,\n",
       " '404435': 235,\n",
       " '404444': 236,\n",
       " '404451': 237,\n",
       " '404452': 238,\n",
       " '404453': 239,\n",
       " '404461': 240,\n",
       " '404462': 241,\n",
       " '404521': 242,\n",
       " '404640': 247,\n",
       " '404753': 248,\n",
       " '404759': 249,\n",
       " '405613': 250,\n",
       " '405619': 251,\n",
       " '405701': 252,\n",
       " '407165': 260,\n",
       " '407172': 261,\n",
       " '407173': 262,\n",
       " '407194': 275,\n",
       " '407321': 281,\n",
       " '407323': 282,\n",
       " '407325': 283,\n",
       " '407328': 284,\n",
       " '407331': 285,\n",
       " '407335': 287,\n",
       " '407336': 288,\n",
       " '407337': 289,\n",
       " '407339': 290,\n",
       " '407341': 291,\n",
       " '407342': 292,\n",
       " '407344': 293,\n",
       " '407348': 294,\n",
       " '407352': 295,\n",
       " '407360': 297,\n",
       " '407361': 298,\n",
       " '407364': 299,\n",
       " '407367': 300,\n",
       " '407370': 301,\n",
       " '407372': 302,\n",
       " '407373': 303,\n",
       " '407374': 304,\n",
       " '407710': 305,\n",
       " '407711': 306,\n",
       " '408907': 307,\n",
       " '408911': 308,\n",
       " '409524': 309,\n",
       " '409525': 310,\n",
       " '409526': 311,\n",
       " '409528': 312,\n",
       " '409529': 313,\n",
       " '413877': 316,\n",
       " '413878': 317,\n",
       " '414284': 318,\n",
       " '414694': 319}"
      ]
     },
     "execution_count": 46,
     "metadata": {},
     "output_type": "execute_result"
    }
   ],
   "source": [
    "g[1]"
   ]
  },
  {
   "cell_type": "code",
   "execution_count": 60,
   "metadata": {},
   "outputs": [
    {
     "name": "stdout",
     "output_type": "stream",
     "text": [
      "240 240\n"
     ]
    }
   ],
   "source": [
    "print(len(g[0]), len(g[1]))"
   ]
  },
  {
   "cell_type": "code",
   "execution_count": 44,
   "metadata": {},
   "outputs": [
    {
     "data": {
      "text/plain": [
       "{'_shape': (240, 240),\n",
       " 'maxprint': 50,\n",
       " 'indices': array([  0,   1,   2, ..., 237, 238, 239]),\n",
       " 'indptr': array([   0,    1,    2,   26,   50,   76,   89,   98,  108,  116,  129,\n",
       "         134,  141,  150,  158,  170,  180,  206,  220,  231,  240,  256,\n",
       "         277,  287,  297,  306,  321,  333,  343,  355,  376,  377,  388,\n",
       "         409,  432,  442,  451,  456,  463,  474,  488,  499,  508,  519,\n",
       "         531,  540,  552,  562,  585,  593,  602,  609,  630,  642,  653,\n",
       "         676,  686,  689,  698,  721,  731,  744,  754,  755,  776,  786,\n",
       "         801,  815,  823,  829,  853,  867,  880,  894,  901,  902,  915,\n",
       "         924,  933,  958,  969,  987,  993, 1003, 1027, 1041, 1053, 1062,\n",
       "        1072, 1080, 1098, 1110, 1120, 1126, 1133, 1138, 1162, 1174, 1186,\n",
       "        1196, 1207, 1220, 1243, 1252, 1262, 1271, 1279, 1297, 1303, 1318,\n",
       "        1338, 1362, 1374, 1393, 1412, 1434, 1456, 1464, 1471, 1497, 1510,\n",
       "        1530, 1548, 1568, 1591, 1612, 1624, 1641, 1653, 1671, 1692, 1715,\n",
       "        1738, 1752, 1771, 1791, 1813, 1831, 1849, 1867, 1885, 1887, 1892,\n",
       "        1903, 1911, 1921, 1933, 1952, 1971, 1979, 1987, 1999, 2012, 2039,\n",
       "        2047, 2068, 2081, 2094, 2112, 2120, 2128, 2145, 2155, 2169, 2177,\n",
       "        2190, 2201, 2211, 2223, 2237, 2246, 2257, 2284, 2296, 2310, 2334,\n",
       "        2358, 2367, 2387, 2406, 2426, 2444, 2462, 2481, 2507, 2530, 2548,\n",
       "        2559, 2571, 2584, 2604, 2627, 2653, 2679, 2699, 2710, 2716, 2728,\n",
       "        2756, 2763, 2786, 2808, 2820, 2833, 2846, 2858, 2872, 2873, 2882,\n",
       "        2894, 2908, 2920, 2933, 2946, 2959, 2973, 2984, 2998, 3009, 3021,\n",
       "        3033, 3046, 3059, 3071, 3082, 3095, 3104, 3113, 3125, 3137, 3144,\n",
       "        3163, 3179, 3190, 3201, 3212, 3223, 3241, 3258, 3277, 3298]),\n",
       " 'data': array([1.        , 1.        , 1.        , ..., 0.60606581, 0.77302521,\n",
       "        1.        ]),\n",
       " '_has_canonical_format': True,\n",
       " '_has_sorted_indices': True}"
      ]
     },
     "execution_count": 44,
     "metadata": {},
     "output_type": "execute_result"
    }
   ],
   "source": [
    "g[2].__dict__"
   ]
  },
  {
   "cell_type": "code",
   "execution_count": 56,
   "metadata": {},
   "outputs": [
    {
     "data": {
      "text/plain": [
       "3298"
      ]
     },
     "execution_count": 56,
     "metadata": {},
     "output_type": "execute_result"
    }
   ],
   "source": [
    "len(g[2].indices)"
   ]
  },
  {
   "cell_type": "code",
   "execution_count": 57,
   "metadata": {},
   "outputs": [
    {
     "data": {
      "text/plain": [
       "241"
      ]
     },
     "execution_count": 57,
     "metadata": {},
     "output_type": "execute_result"
    }
   ],
   "source": [
    "len(g[2].indptr)"
   ]
  },
  {
   "cell_type": "code",
   "execution_count": 58,
   "metadata": {},
   "outputs": [
    {
     "data": {
      "text/plain": [
       "3298"
      ]
     },
     "execution_count": 58,
     "metadata": {},
     "output_type": "execute_result"
    }
   ],
   "source": [
    "len(g[2].data)"
   ]
  },
  {
   "cell_type": "code",
   "execution_count": null,
   "metadata": {},
   "outputs": [],
   "source": []
  },
  {
   "cell_type": "markdown",
   "metadata": {},
   "source": [
    "# generate dataset"
   ]
  },
  {
   "cell_type": "code",
   "execution_count": null,
   "metadata": {},
   "outputs": [],
   "source": []
  },
  {
   "cell_type": "code",
   "execution_count": null,
   "metadata": {},
   "outputs": [],
   "source": []
  },
  {
   "cell_type": "code",
   "execution_count": null,
   "metadata": {},
   "outputs": [],
   "source": []
  },
  {
   "cell_type": "markdown",
   "metadata": {},
   "source": [
    "# read test dataset"
   ]
  },
  {
   "cell_type": "code",
   "execution_count": 14,
   "metadata": {},
   "outputs": [
    {
     "name": "stdout",
     "output_type": "stream",
     "text": [
      "['x', 'y', 'x_offsets', 'y_offsets']\n",
      "(1130, 12, 240, 2)\n",
      "(1130, 12, 240, 2)\n",
      "(12, 1)\n",
      "(12, 1)\n"
     ]
    }
   ],
   "source": [
    "test = np.load('./dataset/test.npz')\n",
    "\n",
    "print(test.files)\n",
    "print(test['x'].shape)\n",
    "print(test['y'].shape)\n",
    "print(test['x_offsets'].shape)\n",
    "print(test['y_offsets'].shape)"
   ]
  },
  {
   "cell_type": "code",
   "execution_count": 7,
   "metadata": {},
   "outputs": [
    {
     "data": {
      "image/png": "[encoded data removed]",
      "text/plain": [
       "<Figure size 1440x504 with 1 Axes>"
      ]
     },
     "metadata": {
      "needs_background": "light"
     },
     "output_type": "display_data"
    }
   ],
   "source": [
    "plt.figure(figsize=(20,7))\n",
    "\n",
    "plt.plot(list(test['x'][0,:,0,0])+list(test['y'][0,:,0,0]))\n",
    "\n",
    "plt.legend(['Actual'], loc='upper left', bbox_to_anchor=(1.0, 1.0))\n",
    "plt.xlabel(\"Segment Index\")\n",
    "plt.ylabel(\"Average Speed\")\n",
    "\n",
    "plt.ylim([50, 80])\n",
    "plt.rcParams.update({'font.size': 20})"
   ]
  },
  {
   "cell_type": "code",
   "execution_count": 9,
   "metadata": {},
   "outputs": [
    {
     "data": {
      "text/plain": [
       "{'_files': ['x.npy', 'y.npy', 'x_offsets.npy', 'y_offsets.npy'],\n",
       " 'files': ['x', 'y', 'x_offsets', 'y_offsets'],\n",
       " 'allow_pickle': False,\n",
       " 'pickle_kwargs': {'encoding': 'ASCII', 'fix_imports': True},\n",
       " 'zip': <zipfile.ZipFile file=<_io.BufferedReader name='./dataset/test.npz'> mode='r'>,\n",
       " 'f': <numpy.lib.npyio.BagObj at 0x1caef199e20>,\n",
       " 'fid': <_io.BufferedReader name='./dataset/test.npz'>}"
      ]
     },
     "execution_count": 9,
     "metadata": {},
     "output_type": "execute_result"
    }
   ],
   "source": [
    "test.__dict__"
   ]
  },
  {
   "cell_type": "code",
   "execution_count": null,
   "metadata": {},
   "outputs": [],
   "source": []
  },
  {
   "cell_type": "markdown",
   "metadata": {},
   "source": [
    "# predict"
   ]
  },
  {
   "cell_type": "code",
   "execution_count": 13,
   "metadata": {},
   "outputs": [
    {
     "name": "stdout",
     "output_type": "stream",
     "text": [
      "2021-05-21 18:13:06,367 - INFO - Log directory: base/dcrnn_DR_2_h_12_64-64_lr_0.01_bs_64_0521181306/\n",
      "2021-05-21 18:13:06,367 - INFO - Log directory: base/dcrnn_DR_2_h_12_64-64_lr_0.01_bs_64_0521181306/\n"
     ]
    },
    {
     "name": "stderr",
     "output_type": "stream",
     "text": [
      "C:\\Users\\rmartinez4\\Box\\Personal Git\\DCRNN_PyTorch\\run_demo_pytorch.py:13: YAMLLoadWarning: calling yaml.load() without Loader=... is deprecated, as the default Loader is unsafe. Please read https://msg.pyyaml.org/load for full details.\n",
      "  supervisor_config = yaml.load(f)\n"
     ]
    },
    {
     "name": "stdout",
     "output_type": "stream",
     "text": [
      "2021-05-21 18:13:34,413 - INFO - Model created\n",
      "2021-05-21 18:13:34,413 - INFO - Model created\n",
      "2021-05-21 18:13:50,256 - INFO - Loaded model at 37\n",
      "2021-05-21 18:13:50,256 - INFO - Loaded model at 37\n",
      "MAE : 1.2660863896210988\n",
      "Predictions saved as predictions/dcrnn_predictions.npz.\n",
      "Wall time: 5min 31s\n"
     ]
    }
   ],
   "source": [
    "%%time\n",
    "\n",
    "%run -i run_demo_pytorch.py --use_cpu_only=True --config_filename=configs/raul_test.yaml --output_filename=predictions/dcrnn_predictions.npz"
   ]
  },
  {
   "cell_type": "markdown",
   "metadata": {},
   "source": [
    "## time taken for test data size (10418, 12, 240, 2)\n",
    "\n",
    "2021-05-21 14:21:02,275 - INFO - Log directory: base/dcrnn_DR_2_h_12_64-64_lr_0.01_bs_64_0521142102/\n",
    "\n",
    "2021-05-21 14:21:02,275 - INFO - Log directory: base/dcrnn_DR_2_h_12_64-64_lr_0.01_bs_64_0521142102/\n",
    "C:\\Users\\rmartinez4\\Box\\Personal Git\\DCRNN_PyTorch\\run_demo_pytorch.py:13: YAMLLoadWarning: calling yaml.load() without Loader=... is deprecated, as the default Loader is unsafe. Please read https://msg.pyyaml.org/load for full details.\n",
    "  supervisor_config = yaml.load(f)\n",
    "\n",
    "2021-05-21 14:21:36,960 - INFO - Model created\n",
    "\n",
    "2021-05-21 14:21:36,960 - INFO - Model created\n",
    "\n",
    "2021-05-21 14:21:57,215 - INFO - Loaded model at 37\n",
    "\n",
    "2021-05-21 14:21:57,215 - INFO - Loaded model at 37\n",
    "\n",
    "MAE : 0.9666793061180349\n",
    "\n",
    "Predictions saved as predictions/dcrnn_predictions.npz.\n",
    "\n",
    "Wall time: 48min 1s"
   ]
  },
  {
   "cell_type": "markdown",
   "metadata": {},
   "source": [
    "## time taken for test data size (1130, 12, 240, 2)\n",
    "\n",
    "2021-05-21 18:13:06,367 - INFO - Log directory: base/dcrnn_DR_2_h_12_64-64_lr_0.01_bs_64_0521181306/\n",
    "\n",
    "2021-05-21 18:13:06,367 - INFO - Log directory: base/dcrnn_DR_2_h_12_64-64_lr_0.01_bs_64_0521181306/\n",
    "C:\\Users\\rmartinez4\\Box\\Personal Git\\DCRNN_PyTorch\\run_demo_pytorch.py:13: YAMLLoadWarning: calling yaml.load() without Loader=... is deprecated, as the default Loader is unsafe. Please read https://msg.pyyaml.org/load for full details.\n",
    "  supervisor_config = yaml.load(f)\n",
    "\n",
    "2021-05-21 18:13:34,413 - INFO - Model created\n",
    "\n",
    "2021-05-21 18:13:34,413 - INFO - Model created\n",
    "\n",
    "2021-05-21 18:13:50,256 - INFO - Loaded model at 37\n",
    "\n",
    "2021-05-21 18:13:50,256 - INFO - Loaded model at 37\n",
    "\n",
    "MAE : 1.2660863896210988\n",
    "\n",
    "Predictions saved as predictions/dcrnn_predictions.npz.\n",
    "\n",
    "Wall time: 5min 31s"
   ]
  },
  {
   "cell_type": "markdown",
   "metadata": {},
   "source": [
    "# visualize predictions"
   ]
  },
  {
   "cell_type": "code",
   "execution_count": null,
   "metadata": {},
   "outputs": [],
   "source": []
  },
  {
   "cell_type": "code",
   "execution_count": null,
   "metadata": {},
   "outputs": [],
   "source": []
  },
  {
   "cell_type": "code",
   "execution_count": null,
   "metadata": {},
   "outputs": [],
   "source": []
  },
  {
   "cell_type": "code",
   "execution_count": null,
   "metadata": {},
   "outputs": [],
   "source": []
  }
 ],
 "metadata": {
  "kernelspec": {
   "display_name": "Python 3",
   "language": "python",
   "name": "python3"
  },
  "language_info": {
   "codemirror_mode": {
    "name": "ipython",
    "version": 3
   },
   "file_extension": ".py",
   "mimetype": "text/x-python",
   "name": "python",
   "nbconvert_exporter": "python",
   "pygments_lexer": "ipython3",
   "version": "3.8.8"
  },
  "toc": {
   "base_numbering": 1,
   "nav_menu": {},
   "number_sections": true,
   "sideBar": true,
   "skip_h1_title": false,
   "title_cell": "Table of Contents",
   "title_sidebar": "Contents",
   "toc_cell": false,
   "toc_position": {},
   "toc_section_display": true,
   "toc_window_display": false
  },
  "varInspector": {
   "cols": {
    "lenName": 16,
    "lenType": 16,
    "lenVar": 40
   },
   "kernels_config": {
    "python": {
     "delete_cmd_postfix": "",
     "delete_cmd_prefix": "del ",
     "library": "var_list.py",
     "varRefreshCmd": "print(var_dic_list())"
    },
    "r": {
     "delete_cmd_postfix": ") ",
     "delete_cmd_prefix": "rm(",
     "library": "var_list.r",
     "varRefreshCmd": "cat(var_dic_list()) "
    }
   },
   "types_to_exclude": [
    "module",
    "function",
    "builtin_function_or_method",
    "instance",
    "_Feature"
   ],
   "window_display": false
  }
 },
 "nbformat": 4,
 "nbformat_minor": 4
}
