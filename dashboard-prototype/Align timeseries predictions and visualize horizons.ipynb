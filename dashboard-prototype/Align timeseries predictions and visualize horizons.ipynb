{
 "cells": [
  {
   "cell_type": "code",
   "execution_count": 1,
   "id": "e5dd355a",
   "metadata": {},
   "outputs": [],
   "source": [
    "import pickle\n",
    "from os.path import join\n",
    "import pandas as pd\n",
    "import numpy as np\n",
    "from collections import defaultdict\n",
    "import torch\n"
   ]
  },
  {
   "cell_type": "code",
   "execution_count": 2,
   "id": "049f63d3",
   "metadata": {},
   "outputs": [
    {
     "name": "stdout",
     "output_type": "stream",
     "text": [
      "52090\n",
      "320\n"
     ]
    }
   ],
   "source": [
    "# load time series for graph\n",
    "\n",
    "fp = r'C:\\Users\\rmartinez4\\Box\\Personal Git\\Nautilus-seq2seq\\data-scalability-spatiotemporal\\data'\n",
    "g = pickle.load(open(join(fp,'full_graph.pkl'),'rb'))\n",
    "\n",
    "time_series = list(g.nodes[0]['values'].index)[12:-11]\n",
    "sensors = [g.nodes[i]['sensor'] for i in g.nodes]\n",
    "\n",
    "print(len(time_series))\n",
    "print(len(sensors))"
   ]
  },
  {
   "cell_type": "code",
   "execution_count": 3,
   "id": "2fe8f33c",
   "metadata": {},
   "outputs": [
    {
     "name": "stdout",
     "output_type": "stream",
     "text": [
      "2020-01-01 01:05:00 2020-06-29 23:05:00\n"
     ]
    }
   ],
   "source": [
    "print(time_series[0], time_series[-1]) "
   ]
  },
  {
   "cell_type": "code",
   "execution_count": 4,
   "id": "5ae6b303",
   "metadata": {},
   "outputs": [
    {
     "name": "stdout",
     "output_type": "stream",
     "text": [
      "Wall time: 7 ms\n"
     ]
    }
   ],
   "source": [
    "%%time\n",
    "\n",
    "# load train, val, and test predictions\n",
    "train = np.load('./dcrnn_predictions20_train.npz')\n",
    "val = np.load('./dcrnn_predictions20_val.npz')\n",
    "test = np.load('./dcrnn_predictions20_test.npz')\n"
   ]
  },
  {
   "cell_type": "code",
   "execution_count": 5,
   "id": "1e96ee5b",
   "metadata": {},
   "outputs": [
    {
     "name": "stdout",
     "output_type": "stream",
     "text": [
      "(12, 36480, 320)\n",
      "(12, 36480, 320)\n",
      "(12, 10432, 320)\n",
      "(12, 10432, 320)\n",
      "(12, 5248, 320)\n",
      "(12, 5248, 320)\n"
     ]
    }
   ],
   "source": [
    "print(train['prediction'].shape)\n",
    "print(train['truth'].shape)\n",
    "\n",
    "print(test['prediction'].shape)\n",
    "print(test['truth'].shape)\n",
    "\n",
    "print(val['prediction'].shape)\n",
    "print(val['truth'].shape)\n"
   ]
  },
  {
   "cell_type": "code",
   "execution_count": 6,
   "id": "a19b9917",
   "metadata": {},
   "outputs": [],
   "source": [
    "len_pred = train['prediction'].shape[1] + test['prediction'].shape[1] + val['prediction'].shape[1] "
   ]
  },
  {
   "cell_type": "code",
   "execution_count": 7,
   "id": "32d293d7",
   "metadata": {},
   "outputs": [
    {
     "name": "stdout",
     "output_type": "stream",
     "text": [
      "17\n",
      "39\n",
      "14\n",
      "Total Padding: 70\n"
     ]
    }
   ],
   "source": [
    "raw_data_fp = r'C:\\Users\\rmartinez4\\Box\\Personal Git\\Nautilus-seq2seq\\data-scalability-spatiotemporal\\25'\n",
    "\n",
    "raw_train = np.load(join(raw_data_fp, 'train.npz'))\n",
    "raw_val = np.load(join(raw_data_fp, 'val.npz'))\n",
    "raw_test = np.load(join(raw_data_fp, 'test.npz'))\n",
    "\n",
    "batch_size=64\n",
    "\n",
    "num_padding_train = (batch_size - len(raw_train['x']) % batch_size) % batch_size\n",
    "num_padding_val = (batch_size - len(raw_val['x']) % batch_size) % batch_size\n",
    "num_padding_test = (batch_size - len(raw_test['x']) % batch_size) % batch_size\n",
    "\n",
    "print(num_padding_train)\n",
    "print(num_padding_val)\n",
    "print(num_padding_test)\n",
    "\n",
    "print('Total Padding: {}'.format(num_padding_train+num_padding_val+num_padding_test))"
   ]
  },
  {
   "cell_type": "code",
   "execution_count": 8,
   "id": "3be58d39",
   "metadata": {},
   "outputs": [
    {
     "name": "stdout",
     "output_type": "stream",
     "text": [
      "52090\n"
     ]
    }
   ],
   "source": [
    "len_raw = len(raw_train['x']) + len(raw_val['x']) + len(raw_test['x'])\n",
    "print(len_raw)"
   ]
  },
  {
   "cell_type": "code",
   "execution_count": 9,
   "id": "f4cd7487",
   "metadata": {},
   "outputs": [
    {
     "name": "stdout",
     "output_type": "stream",
     "text": [
      "Diff between timeseries and raw: 0\n",
      "Diff between pred and timeseries: 70\n",
      "Diff between raw and pred: 70\n"
     ]
    }
   ],
   "source": [
    "print('Diff between timeseries and raw: {}'.format(len(time_series)-len_raw))\n",
    "\n",
    "print('Diff between pred and timeseries: {}'.format(len_pred-len(time_series)))\n",
    "\n",
    "print('Diff between raw and pred: {}'.format(len_pred-len_raw))\n"
   ]
  },
  {
   "cell_type": "code",
   "execution_count": 10,
   "id": "b9174c9f",
   "metadata": {},
   "outputs": [
    {
     "name": "stdout",
     "output_type": "stream",
     "text": [
      "(12, 52090, 320)\n",
      "(12, 52090, 320)\n"
     ]
    }
   ],
   "source": [
    "# unpad train, val, and test to create an unpadded predictions dataset\n",
    "\n",
    "prediction = np.concatenate((train['prediction'][:,:-num_padding_train,:], \n",
    "                             val['prediction'][:,:-num_padding_val,:], \n",
    "                             test['prediction'][:,:-num_padding_test,:]), axis=1)\n",
    "\n",
    "truth = np.concatenate((train['truth'][:,:-num_padding_train,:], \n",
    "                             val['truth'][:,:-num_padding_val,:], \n",
    "                             test['truth'][:,:-num_padding_test,:]), axis=1)\n",
    "\n",
    "print(prediction.shape)\n",
    "print(truth.shape)\n"
   ]
  },
  {
   "cell_type": "code",
   "execution_count": 11,
   "id": "93a68c66",
   "metadata": {},
   "outputs": [
    {
     "name": "stdout",
     "output_type": "stream",
     "text": [
      "Diff between pred (unpadded) and timeseries: 0\n",
      "Diff between pred (unpadded) and timeseries: 0\n"
     ]
    }
   ],
   "source": [
    "print('Diff between pred (unpadded) and timeseries: {}'.format(prediction.shape[1]-len(time_series)))\n",
    "\n",
    "print('Diff between pred (unpadded) and timeseries: {}'.format(truth.shape[1]-len(time_series)))"
   ]
  },
  {
   "cell_type": "code",
   "execution_count": 12,
   "id": "cea8d81b",
   "metadata": {},
   "outputs": [
    {
     "name": "stdout",
     "output_type": "stream",
     "text": [
      "0\n",
      "1\n",
      "2\n",
      "3\n",
      "4\n",
      "5\n",
      "6\n",
      "7\n",
      "8\n",
      "9\n",
      "10\n",
      "11\n",
      "Wall time: 59.9 s\n"
     ]
    }
   ],
   "source": [
    "%%time\n",
    "\n",
    "data_dict = defaultdict(lambda: defaultdict(dict))\n",
    "\n",
    "horizon = 12\n",
    "for h in range(horizon): \n",
    "    print(h)\n",
    "    for i in range(len(sensors)):\n",
    "\n",
    "        P = prediction[h,:,i]\n",
    "        T = truth[h,:,i]\n",
    "\n",
    "        data_dict[h+1][sensors[i]] = pd.DataFrame({'time': time_series[:len(P)],\n",
    "                                                   'pred': P,\n",
    "                                                   'truth': T})\n",
    "        "
   ]
  },
  {
   "cell_type": "code",
   "execution_count": 13,
   "id": "cd8b54cd",
   "metadata": {},
   "outputs": [
    {
     "data": {
      "text/plain": [
       "(52090, 3)"
      ]
     },
     "execution_count": 13,
     "metadata": {},
     "output_type": "execute_result"
    }
   ],
   "source": [
    "data_dict[1]['400001'].shape"
   ]
  },
  {
   "cell_type": "code",
   "execution_count": 14,
   "id": "61d00c12",
   "metadata": {},
   "outputs": [],
   "source": [
    "def masked_mae_loss(y_pred, y_true):\n",
    "    mask = (y_true != 0).float()\n",
    "    mask /= mask.mean()\n",
    "\n",
    "    loss = torch.abs(y_pred - y_true)\n",
    "    loss = loss * mask\n",
    "    loss[torch.isnan(loss)] = 0\n",
    "\n",
    "    return loss.mean()"
   ]
  },
  {
   "cell_type": "code",
   "execution_count": 26,
   "id": "60653ff9",
   "metadata": {},
   "outputs": [
    {
     "data": {
      "application/vnd.plotly.v1+json": {
       "config": {
        "plotlyServerURL": "https://plot.ly"
       },
       "data": [
        {
         "line": {
          "color": "#EF553B"
         },
         "mode": "lines+markers",
         "name": "True",
         "type": "scatter",
         "x": [
          "2020-02-01T04:00:00",
          "2020-02-01T04:05:00",
          "2020-02-01T04:10:00",
          "2020-02-01T04:15:00",
          "2020-02-01T04:20:00",
          "2020-02-01T04:25:00",
          "2020-02-01T04:30:00",
          "2020-02-01T04:35:00",
          "2020-02-01T04:40:00",
          "2020-02-01T04:45:00",
          "2020-02-01T04:50:00",
          "2020-02-01T04:55:00",
          "2020-02-01T05:00:00",
          "2020-02-01T05:05:00",
          "2020-02-01T05:10:00",
          "2020-02-01T05:15:00",
          "2020-02-01T05:20:00",
          "2020-02-01T05:25:00",
          "2020-02-01T05:30:00",
          "2020-02-01T05:35:00"
         ],
         "y": [
          65.9000015258789,
          69.30000305175781,
          66.80000305175781,
          74.5,
          70.5,
          68.0999984741211,
          70.5999984741211,
          69,
          69.5999984741211,
          73.69999694824219,
          69.30000305175781,
          72.5,
          67.5999984741211,
          69.0999984741211,
          68.0999984741211,
          68.4000015258789,
          71.30000305175781,
          65.19999694824219,
          65.30000305175781,
          71.80000305175781
         ]
        },
        {
         "line": {
          "color": "#636EFA"
         },
         "mode": "lines",
         "name": "Predicted (1 pts, MAE: 0.92)",
         "type": "scatter",
         "x": [
          "2020-02-01T04:00:00",
          "2020-02-01T04:05:00",
          "2020-02-01T04:10:00",
          "2020-02-01T04:15:00",
          "2020-02-01T04:20:00",
          "2020-02-01T04:25:00",
          "2020-02-01T04:30:00",
          "2020-02-01T04:35:00",
          "2020-02-01T04:40:00",
          "2020-02-01T04:45:00",
          "2020-02-01T04:50:00",
          "2020-02-01T04:55:00",
          "2020-02-01T05:00:00",
          "2020-02-01T05:05:00",
          "2020-02-01T05:10:00",
          "2020-02-01T05:15:00",
          "2020-02-01T05:20:00",
          "2020-02-01T05:25:00",
          "2020-02-01T05:30:00",
          "2020-02-01T05:35:00"
         ],
         "y": [
          68.06283569335938,
          67.95097351074219,
          66.93267059326172,
          71.995849609375,
          70.78630065917969,
          67.88375091552734,
          71.03030395507812,
          68.98543548583984,
          69.08148956298828,
          72.24833679199219,
          70.32110595703125,
          72.57796478271484,
          67.08403015136719,
          70.718994140625,
          68.86018371582031,
          66.01614379882812,
          70.8528060913086,
          64.21409606933594,
          64.89921569824219,
          70.61327362060547
         ]
        },
        {
         "line": {
          "color": "#00CC96"
         },
         "mode": "lines",
         "name": "Predicted (4 pts, MAE: 1.19)",
         "type": "scatter",
         "x": [
          "2020-02-01T04:00:00",
          "2020-02-01T04:05:00",
          "2020-02-01T04:10:00",
          "2020-02-01T04:15:00",
          "2020-02-01T04:20:00",
          "2020-02-01T04:25:00",
          "2020-02-01T04:30:00",
          "2020-02-01T04:35:00",
          "2020-02-01T04:40:00",
          "2020-02-01T04:45:00",
          "2020-02-01T04:50:00",
          "2020-02-01T04:55:00",
          "2020-02-01T05:00:00",
          "2020-02-01T05:05:00",
          "2020-02-01T05:10:00",
          "2020-02-01T05:15:00",
          "2020-02-01T05:20:00",
          "2020-02-01T05:25:00",
          "2020-02-01T05:30:00",
          "2020-02-01T05:35:00"
         ],
         "y": [
          68.50515747070312,
          67.91067504882812,
          66.92486572265625,
          69.71733856201172,
          70.63835144042969,
          67.9261245727539,
          70.99557495117188,
          68.98649597167969,
          68.98865509033203,
          72.32221984863281,
          70.32388305664062,
          70.7768783569336,
          67.38805389404297,
          70.80335235595703,
          67.99544525146484,
          65.77262878417969,
          70.99768829345703,
          62.65571212768555,
          64.61154174804688,
          70.60269927978516
         ]
        },
        {
         "line": {
          "color": "#AB63FA"
         },
         "mode": "lines",
         "name": "Predicted (8 pts, MAE: 1.87)",
         "type": "scatter",
         "x": [
          "2020-02-01T04:00:00",
          "2020-02-01T04:05:00",
          "2020-02-01T04:10:00",
          "2020-02-01T04:15:00",
          "2020-02-01T04:20:00",
          "2020-02-01T04:25:00",
          "2020-02-01T04:30:00",
          "2020-02-01T04:35:00",
          "2020-02-01T04:40:00",
          "2020-02-01T04:45:00",
          "2020-02-01T04:50:00",
          "2020-02-01T04:55:00",
          "2020-02-01T05:00:00",
          "2020-02-01T05:05:00",
          "2020-02-01T05:10:00",
          "2020-02-01T05:15:00",
          "2020-02-01T05:20:00",
          "2020-02-01T05:25:00",
          "2020-02-01T05:30:00",
          "2020-02-01T05:35:00"
         ],
         "y": [
          68.62969207763672,
          67.95689392089844,
          66.85550689697266,
          67.3974838256836,
          70.6545181274414,
          67.96372985839844,
          70.86273193359375,
          69.02154541015625,
          68.93970489501953,
          72.15072631835938,
          70.42340087890625,
          63.98503875732422,
          67.49742126464844,
          70.87593078613281,
          66.57221984863281,
          64.67446899414062,
          71.03775024414062,
          60.7059326171875,
          64.6338119506836,
          70.70186614990234
         ]
        },
        {
         "line": {
          "color": "#FFA15A"
         },
         "mode": "lines",
         "name": "Predicted (12 pts, MAE: 2.22)",
         "type": "scatter",
         "x": [
          "2020-02-01T04:00:00",
          "2020-02-01T04:05:00",
          "2020-02-01T04:10:00",
          "2020-02-01T04:15:00",
          "2020-02-01T04:20:00",
          "2020-02-01T04:25:00",
          "2020-02-01T04:30:00",
          "2020-02-01T04:35:00",
          "2020-02-01T04:40:00",
          "2020-02-01T04:45:00",
          "2020-02-01T04:50:00",
          "2020-02-01T04:55:00",
          "2020-02-01T05:00:00",
          "2020-02-01T05:05:00",
          "2020-02-01T05:10:00",
          "2020-02-01T05:15:00",
          "2020-02-01T05:20:00",
          "2020-02-01T05:25:00",
          "2020-02-01T05:30:00",
          "2020-02-01T05:35:00"
         ],
         "y": [
          68.42428588867188,
          67.94412994384766,
          66.91900634765625,
          65.52293395996094,
          70.77758026123047,
          67.99105834960938,
          70.79170227050781,
          69.08650970458984,
          68.9126205444336,
          71.9998550415039,
          70.5228500366211,
          58.35615158081055,
          67.53621673583984,
          70.81604766845703,
          66.4167709350586,
          65.08834075927734,
          70.99172973632812,
          60.80659484863281,
          64.73763275146484,
          70.81722259521484
         ]
        }
       ],
       "layout": {
        "font": {
         "size": 14
        },
        "template": {
         "data": {
          "bar": [
           {
            "error_x": {
             "color": "#2a3f5f"
            },
            "error_y": {
             "color": "#2a3f5f"
            },
            "marker": {
             "line": {
              "color": "#E5ECF6",
              "width": 0.5
             }
            },
            "type": "bar"
           }
          ],
          "barpolar": [
           {
            "marker": {
             "line": {
              "color": "#E5ECF6",
              "width": 0.5
             }
            },
            "type": "barpolar"
           }
          ],
          "carpet": [
           {
            "aaxis": {
             "endlinecolor": "#2a3f5f",
             "gridcolor": "white",
             "linecolor": "white",
             "minorgridcolor": "white",
             "startlinecolor": "#2a3f5f"
            },
            "baxis": {
             "endlinecolor": "#2a3f5f",
             "gridcolor": "white",
             "linecolor": "white",
             "minorgridcolor": "white",
             "startlinecolor": "#2a3f5f"
            },
            "type": "carpet"
           }
          ],
          "choropleth": [
           {
            "colorbar": {
             "outlinewidth": 0,
             "ticks": ""
            },
            "type": "choropleth"
           }
          ],
          "contour": [
           {
            "colorbar": {
             "outlinewidth": 0,
             "ticks": ""
            },
            "colorscale": [
             [
              0,
              "#0d0887"
             ],
             [
              0.1111111111111111,
              "#46039f"
             ],
             [
              0.2222222222222222,
              "#7201a8"
             ],
             [
              0.3333333333333333,
              "#9c179e"
             ],
             [
              0.4444444444444444,
              "#bd3786"
             ],
             [
              0.5555555555555556,
              "#d8576b"
             ],
             [
              0.6666666666666666,
              "#ed7953"
             ],
             [
              0.7777777777777778,
              "#fb9f3a"
             ],
             [
              0.8888888888888888,
              "#fdca26"
             ],
             [
              1,
              "#f0f921"
             ]
            ],
            "type": "contour"
           }
          ],
          "contourcarpet": [
           {
            "colorbar": {
             "outlinewidth": 0,
             "ticks": ""
            },
            "type": "contourcarpet"
           }
          ],
          "heatmap": [
           {
            "colorbar": {
             "outlinewidth": 0,
             "ticks": ""
            },
            "colorscale": [
             [
              0,
              "#0d0887"
             ],
             [
              0.1111111111111111,
              "#46039f"
             ],
             [
              0.2222222222222222,
              "#7201a8"
             ],
             [
              0.3333333333333333,
              "#9c179e"
             ],
             [
              0.4444444444444444,
              "#bd3786"
             ],
             [
              0.5555555555555556,
              "#d8576b"
             ],
             [
              0.6666666666666666,
              "#ed7953"
             ],
             [
              0.7777777777777778,
              "#fb9f3a"
             ],
             [
              0.8888888888888888,
              "#fdca26"
             ],
             [
              1,
              "#f0f921"
             ]
            ],
            "type": "heatmap"
           }
          ],
          "heatmapgl": [
           {
            "colorbar": {
             "outlinewidth": 0,
             "ticks": ""
            },
            "colorscale": [
             [
              0,
              "#0d0887"
             ],
             [
              0.1111111111111111,
              "#46039f"
             ],
             [
              0.2222222222222222,
              "#7201a8"
             ],
             [
              0.3333333333333333,
              "#9c179e"
             ],
             [
              0.4444444444444444,
              "#bd3786"
             ],
             [
              0.5555555555555556,
              "#d8576b"
             ],
             [
              0.6666666666666666,
              "#ed7953"
             ],
             [
              0.7777777777777778,
              "#fb9f3a"
             ],
             [
              0.8888888888888888,
              "#fdca26"
             ],
             [
              1,
              "#f0f921"
             ]
            ],
            "type": "heatmapgl"
           }
          ],
          "histogram": [
           {
            "marker": {
             "colorbar": {
              "outlinewidth": 0,
              "ticks": ""
             }
            },
            "type": "histogram"
           }
          ],
          "histogram2d": [
           {
            "colorbar": {
             "outlinewidth": 0,
             "ticks": ""
            },
            "colorscale": [
             [
              0,
              "#0d0887"
             ],
             [
              0.1111111111111111,
              "#46039f"
             ],
             [
              0.2222222222222222,
              "#7201a8"
             ],
             [
              0.3333333333333333,
              "#9c179e"
             ],
             [
              0.4444444444444444,
              "#bd3786"
             ],
             [
              0.5555555555555556,
              "#d8576b"
             ],
             [
              0.6666666666666666,
              "#ed7953"
             ],
             [
              0.7777777777777778,
              "#fb9f3a"
             ],
             [
              0.8888888888888888,
              "#fdca26"
             ],
             [
              1,
              "#f0f921"
             ]
            ],
            "type": "histogram2d"
           }
          ],
          "histogram2dcontour": [
           {
            "colorbar": {
             "outlinewidth": 0,
             "ticks": ""
            },
            "colorscale": [
             [
              0,
              "#0d0887"
             ],
             [
              0.1111111111111111,
              "#46039f"
             ],
             [
              0.2222222222222222,
              "#7201a8"
             ],
             [
              0.3333333333333333,
              "#9c179e"
             ],
             [
              0.4444444444444444,
              "#bd3786"
             ],
             [
              0.5555555555555556,
              "#d8576b"
             ],
             [
              0.6666666666666666,
              "#ed7953"
             ],
             [
              0.7777777777777778,
              "#fb9f3a"
             ],
             [
              0.8888888888888888,
              "#fdca26"
             ],
             [
              1,
              "#f0f921"
             ]
            ],
            "type": "histogram2dcontour"
           }
          ],
          "mesh3d": [
           {
            "colorbar": {
             "outlinewidth": 0,
             "ticks": ""
            },
            "type": "mesh3d"
           }
          ],
          "parcoords": [
           {
            "line": {
             "colorbar": {
              "outlinewidth": 0,
              "ticks": ""
             }
            },
            "type": "parcoords"
           }
          ],
          "pie": [
           {
            "automargin": true,
            "type": "pie"
           }
          ],
          "scatter": [
           {
            "marker": {
             "colorbar": {
              "outlinewidth": 0,
              "ticks": ""
             }
            },
            "type": "scatter"
           }
          ],
          "scatter3d": [
           {
            "line": {
             "colorbar": {
              "outlinewidth": 0,
              "ticks": ""
             }
            },
            "marker": {
             "colorbar": {
              "outlinewidth": 0,
              "ticks": ""
             }
            },
            "type": "scatter3d"
           }
          ],
          "scattercarpet": [
           {
            "marker": {
             "colorbar": {
              "outlinewidth": 0,
              "ticks": ""
             }
            },
            "type": "scattercarpet"
           }
          ],
          "scattergeo": [
           {
            "marker": {
             "colorbar": {
              "outlinewidth": 0,
              "ticks": ""
             }
            },
            "type": "scattergeo"
           }
          ],
          "scattergl": [
           {
            "marker": {
             "colorbar": {
              "outlinewidth": 0,
              "ticks": ""
             }
            },
            "type": "scattergl"
           }
          ],
          "scattermapbox": [
           {
            "marker": {
             "colorbar": {
              "outlinewidth": 0,
              "ticks": ""
             }
            },
            "type": "scattermapbox"
           }
          ],
          "scatterpolar": [
           {
            "marker": {
             "colorbar": {
              "outlinewidth": 0,
              "ticks": ""
             }
            },
            "type": "scatterpolar"
           }
          ],
          "scatterpolargl": [
           {
            "marker": {
             "colorbar": {
              "outlinewidth": 0,
              "ticks": ""
             }
            },
            "type": "scatterpolargl"
           }
          ],
          "scatterternary": [
           {
            "marker": {
             "colorbar": {
              "outlinewidth": 0,
              "ticks": ""
             }
            },
            "type": "scatterternary"
           }
          ],
          "surface": [
           {
            "colorbar": {
             "outlinewidth": 0,
             "ticks": ""
            },
            "colorscale": [
             [
              0,
              "#0d0887"
             ],
             [
              0.1111111111111111,
              "#46039f"
             ],
             [
              0.2222222222222222,
              "#7201a8"
             ],
             [
              0.3333333333333333,
              "#9c179e"
             ],
             [
              0.4444444444444444,
              "#bd3786"
             ],
             [
              0.5555555555555556,
              "#d8576b"
             ],
             [
              0.6666666666666666,
              "#ed7953"
             ],
             [
              0.7777777777777778,
              "#fb9f3a"
             ],
             [
              0.8888888888888888,
              "#fdca26"
             ],
             [
              1,
              "#f0f921"
             ]
            ],
            "type": "surface"
           }
          ],
          "table": [
           {
            "cells": {
             "fill": {
              "color": "#EBF0F8"
             },
             "line": {
              "color": "white"
             }
            },
            "header": {
             "fill": {
              "color": "#C8D4E3"
             },
             "line": {
              "color": "white"
             }
            },
            "type": "table"
           }
          ]
         },
         "layout": {
          "annotationdefaults": {
           "arrowcolor": "#2a3f5f",
           "arrowhead": 0,
           "arrowwidth": 1
          },
          "autotypenumbers": "strict",
          "coloraxis": {
           "colorbar": {
            "outlinewidth": 0,
            "ticks": ""
           }
          },
          "colorscale": {
           "diverging": [
            [
             0,
             "#8e0152"
            ],
            [
             0.1,
             "#c51b7d"
            ],
            [
             0.2,
             "#de77ae"
            ],
            [
             0.3,
             "#f1b6da"
            ],
            [
             0.4,
             "#fde0ef"
            ],
            [
             0.5,
             "#f7f7f7"
            ],
            [
             0.6,
             "#e6f5d0"
            ],
            [
             0.7,
             "#b8e186"
            ],
            [
             0.8,
             "#7fbc41"
            ],
            [
             0.9,
             "#4d9221"
            ],
            [
             1,
             "#276419"
            ]
           ],
           "sequential": [
            [
             0,
             "#0d0887"
            ],
            [
             0.1111111111111111,
             "#46039f"
            ],
            [
             0.2222222222222222,
             "#7201a8"
            ],
            [
             0.3333333333333333,
             "#9c179e"
            ],
            [
             0.4444444444444444,
             "#bd3786"
            ],
            [
             0.5555555555555556,
             "#d8576b"
            ],
            [
             0.6666666666666666,
             "#ed7953"
            ],
            [
             0.7777777777777778,
             "#fb9f3a"
            ],
            [
             0.8888888888888888,
             "#fdca26"
            ],
            [
             1,
             "#f0f921"
            ]
           ],
           "sequentialminus": [
            [
             0,
             "#0d0887"
            ],
            [
             0.1111111111111111,
             "#46039f"
            ],
            [
             0.2222222222222222,
             "#7201a8"
            ],
            [
             0.3333333333333333,
             "#9c179e"
            ],
            [
             0.4444444444444444,
             "#bd3786"
            ],
            [
             0.5555555555555556,
             "#d8576b"
            ],
            [
             0.6666666666666666,
             "#ed7953"
            ],
            [
             0.7777777777777778,
             "#fb9f3a"
            ],
            [
             0.8888888888888888,
             "#fdca26"
            ],
            [
             1,
             "#f0f921"
            ]
           ]
          },
          "colorway": [
           "#636efa",
           "#EF553B",
           "#00cc96",
           "#ab63fa",
           "#FFA15A",
           "#19d3f3",
           "#FF6692",
           "#B6E880",
           "#FF97FF",
           "#FECB52"
          ],
          "font": {
           "color": "#2a3f5f"
          },
          "geo": {
           "bgcolor": "white",
           "lakecolor": "white",
           "landcolor": "#E5ECF6",
           "showlakes": true,
           "showland": true,
           "subunitcolor": "white"
          },
          "hoverlabel": {
           "align": "left"
          },
          "hovermode": "closest",
          "mapbox": {
           "style": "light"
          },
          "paper_bgcolor": "white",
          "plot_bgcolor": "#E5ECF6",
          "polar": {
           "angularaxis": {
            "gridcolor": "white",
            "linecolor": "white",
            "ticks": ""
           },
           "bgcolor": "#E5ECF6",
           "radialaxis": {
            "gridcolor": "white",
            "linecolor": "white",
            "ticks": ""
           }
          },
          "scene": {
           "xaxis": {
            "backgroundcolor": "#E5ECF6",
            "gridcolor": "white",
            "gridwidth": 2,
            "linecolor": "white",
            "showbackground": true,
            "ticks": "",
            "zerolinecolor": "white"
           },
           "yaxis": {
            "backgroundcolor": "#E5ECF6",
            "gridcolor": "white",
            "gridwidth": 2,
            "linecolor": "white",
            "showbackground": true,
            "ticks": "",
            "zerolinecolor": "white"
           },
           "zaxis": {
            "backgroundcolor": "#E5ECF6",
            "gridcolor": "white",
            "gridwidth": 2,
            "linecolor": "white",
            "showbackground": true,
            "ticks": "",
            "zerolinecolor": "white"
           }
          },
          "shapedefaults": {
           "line": {
            "color": "#2a3f5f"
           }
          },
          "ternary": {
           "aaxis": {
            "gridcolor": "white",
            "linecolor": "white",
            "ticks": ""
           },
           "baxis": {
            "gridcolor": "white",
            "linecolor": "white",
            "ticks": ""
           },
           "bgcolor": "#E5ECF6",
           "caxis": {
            "gridcolor": "white",
            "linecolor": "white",
            "ticks": ""
           }
          },
          "title": {
           "x": 0.05
          },
          "xaxis": {
           "automargin": true,
           "gridcolor": "white",
           "linecolor": "white",
           "ticks": "",
           "title": {
            "standoff": 15
           },
           "zerolinecolor": "white",
           "zerolinewidth": 2
          },
          "yaxis": {
           "automargin": true,
           "gridcolor": "white",
           "linecolor": "white",
           "ticks": "",
           "title": {
            "standoff": 15
           },
           "zerolinecolor": "white",
           "zerolinewidth": 2
          }
         }
        },
        "title": {
         "text": "<b>DCRNN Traffic Predictions for Multiple Horizons, each pt is 5 mins</b>"
        },
        "xaxis": {
         "title": {
          "text": "<b>Time Stamp</b>"
         }
        },
        "yaxis": {
         "title": {
          "text": "<b>Average Speed</b>"
         }
        }
       }
      },
      "text/html": [
       "<div>                            <div id=\"46d39be7-8210-4993-8891-d01a1472656a\" class=\"plotly-graph-div\" style=\"height:525px; width:100%;\"></div>            <script type=\"text/javascript\">                require([\"plotly\"], function(Plotly) {                    window.PLOTLYENV=window.PLOTLYENV || {};                                    if (document.getElementById(\"46d39be7-8210-4993-8891-d01a1472656a\")) {                    Plotly.newPlot(                        \"46d39be7-8210-4993-8891-d01a1472656a\",                        [{\"line\": {\"color\": \"#EF553B\"}, \"mode\": \"lines+markers\", \"name\": \"True\", \"type\": \"scatter\", \"x\": [\"2020-02-01T04:00:00\", \"2020-02-01T04:05:00\", \"2020-02-01T04:10:00\", \"2020-02-01T04:15:00\", \"2020-02-01T04:20:00\", \"2020-02-01T04:25:00\", \"2020-02-01T04:30:00\", \"2020-02-01T04:35:00\", \"2020-02-01T04:40:00\", \"2020-02-01T04:45:00\", \"2020-02-01T04:50:00\", \"2020-02-01T04:55:00\", \"2020-02-01T05:00:00\", \"2020-02-01T05:05:00\", \"2020-02-01T05:10:00\", \"2020-02-01T05:15:00\", \"2020-02-01T05:20:00\", \"2020-02-01T05:25:00\", \"2020-02-01T05:30:00\", \"2020-02-01T05:35:00\"], \"y\": [65.9000015258789, 69.30000305175781, 66.80000305175781, 74.5, 70.5, 68.0999984741211, 70.5999984741211, 69.0, 69.5999984741211, 73.69999694824219, 69.30000305175781, 72.5, 67.5999984741211, 69.0999984741211, 68.0999984741211, 68.4000015258789, 71.30000305175781, 65.19999694824219, 65.30000305175781, 71.80000305175781]}, {\"line\": {\"color\": \"#636EFA\"}, \"mode\": \"lines\", \"name\": \"Predicted (1 pts, MAE: 0.92)\", \"type\": \"scatter\", \"x\": [\"2020-02-01T04:00:00\", \"2020-02-01T04:05:00\", \"2020-02-01T04:10:00\", \"2020-02-01T04:15:00\", \"2020-02-01T04:20:00\", \"2020-02-01T04:25:00\", \"2020-02-01T04:30:00\", \"2020-02-01T04:35:00\", \"2020-02-01T04:40:00\", \"2020-02-01T04:45:00\", \"2020-02-01T04:50:00\", \"2020-02-01T04:55:00\", \"2020-02-01T05:00:00\", \"2020-02-01T05:05:00\", \"2020-02-01T05:10:00\", \"2020-02-01T05:15:00\", \"2020-02-01T05:20:00\", \"2020-02-01T05:25:00\", \"2020-02-01T05:30:00\", \"2020-02-01T05:35:00\"], \"y\": [68.06283569335938, 67.95097351074219, 66.93267059326172, 71.995849609375, 70.78630065917969, 67.88375091552734, 71.03030395507812, 68.98543548583984, 69.08148956298828, 72.24833679199219, 70.32110595703125, 72.57796478271484, 67.08403015136719, 70.718994140625, 68.86018371582031, 66.01614379882812, 70.8528060913086, 64.21409606933594, 64.89921569824219, 70.61327362060547]}, {\"line\": {\"color\": \"#00CC96\"}, \"mode\": \"lines\", \"name\": \"Predicted (4 pts, MAE: 1.19)\", \"type\": \"scatter\", \"x\": [\"2020-02-01T04:00:00\", \"2020-02-01T04:05:00\", \"2020-02-01T04:10:00\", \"2020-02-01T04:15:00\", \"2020-02-01T04:20:00\", \"2020-02-01T04:25:00\", \"2020-02-01T04:30:00\", \"2020-02-01T04:35:00\", \"2020-02-01T04:40:00\", \"2020-02-01T04:45:00\", \"2020-02-01T04:50:00\", \"2020-02-01T04:55:00\", \"2020-02-01T05:00:00\", \"2020-02-01T05:05:00\", \"2020-02-01T05:10:00\", \"2020-02-01T05:15:00\", \"2020-02-01T05:20:00\", \"2020-02-01T05:25:00\", \"2020-02-01T05:30:00\", \"2020-02-01T05:35:00\"], \"y\": [68.50515747070312, 67.91067504882812, 66.92486572265625, 69.71733856201172, 70.63835144042969, 67.9261245727539, 70.99557495117188, 68.98649597167969, 68.98865509033203, 72.32221984863281, 70.32388305664062, 70.7768783569336, 67.38805389404297, 70.80335235595703, 67.99544525146484, 65.77262878417969, 70.99768829345703, 62.65571212768555, 64.61154174804688, 70.60269927978516]}, {\"line\": {\"color\": \"#AB63FA\"}, \"mode\": \"lines\", \"name\": \"Predicted (8 pts, MAE: 1.87)\", \"type\": \"scatter\", \"x\": [\"2020-02-01T04:00:00\", \"2020-02-01T04:05:00\", \"2020-02-01T04:10:00\", \"2020-02-01T04:15:00\", \"2020-02-01T04:20:00\", \"2020-02-01T04:25:00\", \"2020-02-01T04:30:00\", \"2020-02-01T04:35:00\", \"2020-02-01T04:40:00\", \"2020-02-01T04:45:00\", \"2020-02-01T04:50:00\", \"2020-02-01T04:55:00\", \"2020-02-01T05:00:00\", \"2020-02-01T05:05:00\", \"2020-02-01T05:10:00\", \"2020-02-01T05:15:00\", \"2020-02-01T05:20:00\", \"2020-02-01T05:25:00\", \"2020-02-01T05:30:00\", \"2020-02-01T05:35:00\"], \"y\": [68.62969207763672, 67.95689392089844, 66.85550689697266, 67.3974838256836, 70.6545181274414, 67.96372985839844, 70.86273193359375, 69.02154541015625, 68.93970489501953, 72.15072631835938, 70.42340087890625, 63.98503875732422, 67.49742126464844, 70.87593078613281, 66.57221984863281, 64.67446899414062, 71.03775024414062, 60.7059326171875, 64.6338119506836, 70.70186614990234]}, {\"line\": {\"color\": \"#FFA15A\"}, \"mode\": \"lines\", \"name\": \"Predicted (12 pts, MAE: 2.22)\", \"type\": \"scatter\", \"x\": [\"2020-02-01T04:00:00\", \"2020-02-01T04:05:00\", \"2020-02-01T04:10:00\", \"2020-02-01T04:15:00\", \"2020-02-01T04:20:00\", \"2020-02-01T04:25:00\", \"2020-02-01T04:30:00\", \"2020-02-01T04:35:00\", \"2020-02-01T04:40:00\", \"2020-02-01T04:45:00\", \"2020-02-01T04:50:00\", \"2020-02-01T04:55:00\", \"2020-02-01T05:00:00\", \"2020-02-01T05:05:00\", \"2020-02-01T05:10:00\", \"2020-02-01T05:15:00\", \"2020-02-01T05:20:00\", \"2020-02-01T05:25:00\", \"2020-02-01T05:30:00\", \"2020-02-01T05:35:00\"], \"y\": [68.42428588867188, 67.94412994384766, 66.91900634765625, 65.52293395996094, 70.77758026123047, 67.99105834960938, 70.79170227050781, 69.08650970458984, 68.9126205444336, 71.9998550415039, 70.5228500366211, 58.35615158081055, 67.53621673583984, 70.81604766845703, 66.4167709350586, 65.08834075927734, 70.99172973632812, 60.80659484863281, 64.73763275146484, 70.81722259521484]}],                        {\"font\": {\"size\": 14}, \"template\": {\"data\": {\"bar\": [{\"error_x\": {\"color\": \"#2a3f5f\"}, \"error_y\": {\"color\": \"#2a3f5f\"}, \"marker\": {\"line\": {\"color\": \"#E5ECF6\", \"width\": 0.5}}, \"type\": \"bar\"}], \"barpolar\": [{\"marker\": {\"line\": {\"color\": \"#E5ECF6\", \"width\": 0.5}}, \"type\": \"barpolar\"}], \"carpet\": [{\"aaxis\": {\"endlinecolor\": \"#2a3f5f\", \"gridcolor\": \"white\", \"linecolor\": \"white\", \"minorgridcolor\": \"white\", \"startlinecolor\": \"#2a3f5f\"}, \"baxis\": {\"endlinecolor\": \"#2a3f5f\", \"gridcolor\": \"white\", \"linecolor\": \"white\", \"minorgridcolor\": \"white\", \"startlinecolor\": \"#2a3f5f\"}, \"type\": \"carpet\"}], \"choropleth\": [{\"colorbar\": {\"outlinewidth\": 0, \"ticks\": \"\"}, \"type\": \"choropleth\"}], \"contour\": [{\"colorbar\": {\"outlinewidth\": 0, \"ticks\": \"\"}, \"colorscale\": [[0.0, \"#0d0887\"], [0.1111111111111111, \"#46039f\"], [0.2222222222222222, \"#7201a8\"], [0.3333333333333333, \"#9c179e\"], [0.4444444444444444, \"#bd3786\"], [0.5555555555555556, \"#d8576b\"], [0.6666666666666666, \"#ed7953\"], [0.7777777777777778, \"#fb9f3a\"], [0.8888888888888888, \"#fdca26\"], [1.0, \"#f0f921\"]], \"type\": \"contour\"}], \"contourcarpet\": [{\"colorbar\": {\"outlinewidth\": 0, \"ticks\": \"\"}, \"type\": \"contourcarpet\"}], \"heatmap\": [{\"colorbar\": {\"outlinewidth\": 0, \"ticks\": \"\"}, \"colorscale\": [[0.0, \"#0d0887\"], [0.1111111111111111, \"#46039f\"], [0.2222222222222222, \"#7201a8\"], [0.3333333333333333, \"#9c179e\"], [0.4444444444444444, \"#bd3786\"], [0.5555555555555556, \"#d8576b\"], [0.6666666666666666, \"#ed7953\"], [0.7777777777777778, \"#fb9f3a\"], [0.8888888888888888, \"#fdca26\"], [1.0, \"#f0f921\"]], \"type\": \"heatmap\"}], \"heatmapgl\": [{\"colorbar\": {\"outlinewidth\": 0, \"ticks\": \"\"}, \"colorscale\": [[0.0, \"#0d0887\"], [0.1111111111111111, \"#46039f\"], [0.2222222222222222, \"#7201a8\"], [0.3333333333333333, \"#9c179e\"], [0.4444444444444444, \"#bd3786\"], [0.5555555555555556, \"#d8576b\"], [0.6666666666666666, \"#ed7953\"], [0.7777777777777778, \"#fb9f3a\"], [0.8888888888888888, \"#fdca26\"], [1.0, \"#f0f921\"]], \"type\": \"heatmapgl\"}], \"histogram\": [{\"marker\": {\"colorbar\": {\"outlinewidth\": 0, \"ticks\": \"\"}}, \"type\": \"histogram\"}], \"histogram2d\": [{\"colorbar\": {\"outlinewidth\": 0, \"ticks\": \"\"}, \"colorscale\": [[0.0, \"#0d0887\"], [0.1111111111111111, \"#46039f\"], [0.2222222222222222, \"#7201a8\"], [0.3333333333333333, \"#9c179e\"], [0.4444444444444444, \"#bd3786\"], [0.5555555555555556, \"#d8576b\"], [0.6666666666666666, \"#ed7953\"], [0.7777777777777778, \"#fb9f3a\"], [0.8888888888888888, \"#fdca26\"], [1.0, \"#f0f921\"]], \"type\": \"histogram2d\"}], \"histogram2dcontour\": [{\"colorbar\": {\"outlinewidth\": 0, \"ticks\": \"\"}, \"colorscale\": [[0.0, \"#0d0887\"], [0.1111111111111111, \"#46039f\"], [0.2222222222222222, \"#7201a8\"], [0.3333333333333333, \"#9c179e\"], [0.4444444444444444, \"#bd3786\"], [0.5555555555555556, \"#d8576b\"], [0.6666666666666666, \"#ed7953\"], [0.7777777777777778, \"#fb9f3a\"], [0.8888888888888888, \"#fdca26\"], [1.0, \"#f0f921\"]], \"type\": \"histogram2dcontour\"}], \"mesh3d\": [{\"colorbar\": {\"outlinewidth\": 0, \"ticks\": \"\"}, \"type\": \"mesh3d\"}], \"parcoords\": [{\"line\": {\"colorbar\": {\"outlinewidth\": 0, \"ticks\": \"\"}}, \"type\": \"parcoords\"}], \"pie\": [{\"automargin\": true, \"type\": \"pie\"}], \"scatter\": [{\"marker\": {\"colorbar\": {\"outlinewidth\": 0, \"ticks\": \"\"}}, \"type\": \"scatter\"}], \"scatter3d\": [{\"line\": {\"colorbar\": {\"outlinewidth\": 0, \"ticks\": \"\"}}, \"marker\": {\"colorbar\": {\"outlinewidth\": 0, \"ticks\": \"\"}}, \"type\": \"scatter3d\"}], \"scattercarpet\": [{\"marker\": {\"colorbar\": {\"outlinewidth\": 0, \"ticks\": \"\"}}, \"type\": \"scattercarpet\"}], \"scattergeo\": [{\"marker\": {\"colorbar\": {\"outlinewidth\": 0, \"ticks\": \"\"}}, \"type\": \"scattergeo\"}], \"scattergl\": [{\"marker\": {\"colorbar\": {\"outlinewidth\": 0, \"ticks\": \"\"}}, \"type\": \"scattergl\"}], \"scattermapbox\": [{\"marker\": {\"colorbar\": {\"outlinewidth\": 0, \"ticks\": \"\"}}, \"type\": \"scattermapbox\"}], \"scatterpolar\": [{\"marker\": {\"colorbar\": {\"outlinewidth\": 0, \"ticks\": \"\"}}, \"type\": \"scatterpolar\"}], \"scatterpolargl\": [{\"marker\": {\"colorbar\": {\"outlinewidth\": 0, \"ticks\": \"\"}}, \"type\": \"scatterpolargl\"}], \"scatterternary\": [{\"marker\": {\"colorbar\": {\"outlinewidth\": 0, \"ticks\": \"\"}}, \"type\": \"scatterternary\"}], \"surface\": [{\"colorbar\": {\"outlinewidth\": 0, \"ticks\": \"\"}, \"colorscale\": [[0.0, \"#0d0887\"], [0.1111111111111111, \"#46039f\"], [0.2222222222222222, \"#7201a8\"], [0.3333333333333333, \"#9c179e\"], [0.4444444444444444, \"#bd3786\"], [0.5555555555555556, \"#d8576b\"], [0.6666666666666666, \"#ed7953\"], [0.7777777777777778, \"#fb9f3a\"], [0.8888888888888888, \"#fdca26\"], [1.0, \"#f0f921\"]], \"type\": \"surface\"}], \"table\": [{\"cells\": {\"fill\": {\"color\": \"#EBF0F8\"}, \"line\": {\"color\": \"white\"}}, \"header\": {\"fill\": {\"color\": \"#C8D4E3\"}, \"line\": {\"color\": \"white\"}}, \"type\": \"table\"}]}, \"layout\": {\"annotationdefaults\": {\"arrowcolor\": \"#2a3f5f\", \"arrowhead\": 0, \"arrowwidth\": 1}, \"autotypenumbers\": \"strict\", \"coloraxis\": {\"colorbar\": {\"outlinewidth\": 0, \"ticks\": \"\"}}, \"colorscale\": {\"diverging\": [[0, \"#8e0152\"], [0.1, \"#c51b7d\"], [0.2, \"#de77ae\"], [0.3, \"#f1b6da\"], [0.4, \"#fde0ef\"], [0.5, \"#f7f7f7\"], [0.6, \"#e6f5d0\"], [0.7, \"#b8e186\"], [0.8, \"#7fbc41\"], [0.9, \"#4d9221\"], [1, \"#276419\"]], \"sequential\": [[0.0, \"#0d0887\"], [0.1111111111111111, \"#46039f\"], [0.2222222222222222, \"#7201a8\"], [0.3333333333333333, \"#9c179e\"], [0.4444444444444444, \"#bd3786\"], [0.5555555555555556, \"#d8576b\"], [0.6666666666666666, \"#ed7953\"], [0.7777777777777778, \"#fb9f3a\"], [0.8888888888888888, \"#fdca26\"], [1.0, \"#f0f921\"]], \"sequentialminus\": [[0.0, \"#0d0887\"], [0.1111111111111111, \"#46039f\"], [0.2222222222222222, \"#7201a8\"], [0.3333333333333333, \"#9c179e\"], [0.4444444444444444, \"#bd3786\"], [0.5555555555555556, \"#d8576b\"], [0.6666666666666666, \"#ed7953\"], [0.7777777777777778, \"#fb9f3a\"], [0.8888888888888888, \"#fdca26\"], [1.0, \"#f0f921\"]]}, \"colorway\": [\"#636efa\", \"#EF553B\", \"#00cc96\", \"#ab63fa\", \"#FFA15A\", \"#19d3f3\", \"#FF6692\", \"#B6E880\", \"#FF97FF\", \"#FECB52\"], \"font\": {\"color\": \"#2a3f5f\"}, \"geo\": {\"bgcolor\": \"white\", \"lakecolor\": \"white\", \"landcolor\": \"#E5ECF6\", \"showlakes\": true, \"showland\": true, \"subunitcolor\": \"white\"}, \"hoverlabel\": {\"align\": \"left\"}, \"hovermode\": \"closest\", \"mapbox\": {\"style\": \"light\"}, \"paper_bgcolor\": \"white\", \"plot_bgcolor\": \"#E5ECF6\", \"polar\": {\"angularaxis\": {\"gridcolor\": \"white\", \"linecolor\": \"white\", \"ticks\": \"\"}, \"bgcolor\": \"#E5ECF6\", \"radialaxis\": {\"gridcolor\": \"white\", \"linecolor\": \"white\", \"ticks\": \"\"}}, \"scene\": {\"xaxis\": {\"backgroundcolor\": \"#E5ECF6\", \"gridcolor\": \"white\", \"gridwidth\": 2, \"linecolor\": \"white\", \"showbackground\": true, \"ticks\": \"\", \"zerolinecolor\": \"white\"}, \"yaxis\": {\"backgroundcolor\": \"#E5ECF6\", \"gridcolor\": \"white\", \"gridwidth\": 2, \"linecolor\": \"white\", \"showbackground\": true, \"ticks\": \"\", \"zerolinecolor\": \"white\"}, \"zaxis\": {\"backgroundcolor\": \"#E5ECF6\", \"gridcolor\": \"white\", \"gridwidth\": 2, \"linecolor\": \"white\", \"showbackground\": true, \"ticks\": \"\", \"zerolinecolor\": \"white\"}}, \"shapedefaults\": {\"line\": {\"color\": \"#2a3f5f\"}}, \"ternary\": {\"aaxis\": {\"gridcolor\": \"white\", \"linecolor\": \"white\", \"ticks\": \"\"}, \"baxis\": {\"gridcolor\": \"white\", \"linecolor\": \"white\", \"ticks\": \"\"}, \"bgcolor\": \"#E5ECF6\", \"caxis\": {\"gridcolor\": \"white\", \"linecolor\": \"white\", \"ticks\": \"\"}}, \"title\": {\"x\": 0.05}, \"xaxis\": {\"automargin\": true, \"gridcolor\": \"white\", \"linecolor\": \"white\", \"ticks\": \"\", \"title\": {\"standoff\": 15}, \"zerolinecolor\": \"white\", \"zerolinewidth\": 2}, \"yaxis\": {\"automargin\": true, \"gridcolor\": \"white\", \"linecolor\": \"white\", \"ticks\": \"\", \"title\": {\"standoff\": 15}, \"zerolinecolor\": \"white\", \"zerolinewidth\": 2}}}, \"title\": {\"text\": \"<b>DCRNN Traffic Predictions for Multiple Horizons, each pt is 5 mins</b>\"}, \"xaxis\": {\"title\": {\"text\": \"<b>Time Stamp</b>\"}}, \"yaxis\": {\"title\": {\"text\": \"<b>Average Speed</b>\"}}},                        {\"responsive\": true}                    ).then(function(){\n",
       "                            \n",
       "var gd = document.getElementById('46d39be7-8210-4993-8891-d01a1472656a');\n",
       "var x = new MutationObserver(function (mutations, observer) {{\n",
       "        var display = window.getComputedStyle(gd).display;\n",
       "        if (!display || display === 'none') {{\n",
       "            console.log([gd, 'removed!']);\n",
       "            Plotly.purge(gd);\n",
       "            observer.disconnect();\n",
       "        }}\n",
       "}});\n",
       "\n",
       "// Listen for the removal of the full notebook cells\n",
       "var notebookContainer = gd.closest('#notebook-container');\n",
       "if (notebookContainer) {{\n",
       "    x.observe(notebookContainer, {childList: true});\n",
       "}}\n",
       "\n",
       "// Listen for the clearing of the current output cell\n",
       "var outputEl = gd.closest('.output');\n",
       "if (outputEl) {{\n",
       "    x.observe(outputEl, {childList: true});\n",
       "}}\n",
       "\n",
       "                        })                };                });            </script>        </div>"
      ]
     },
     "metadata": {},
     "output_type": "display_data"
    },
    {
     "name": "stdout",
     "output_type": "stream",
     "text": [
      "Wall time: 31 ms\n"
     ]
    }
   ],
   "source": [
    "%%time\n",
    "\n",
    "import plotly.graph_objects as go\n",
    "from datetime import datetime \n",
    "\n",
    "horizon = [1, 4, 8, 12]\n",
    "station = '400001'\n",
    "start_date = datetime.strptime('2020-02-01 4:00:00', '%Y-%m-%d %H:%M:%S')\n",
    "end_date = datetime.strptime('2020-02-01 5:35:00', '%Y-%m-%d %H:%M:%S')\n",
    "\n",
    "colors = ['#EF553B', '#636EFA', '#00CC96', '#AB63FA', '#FFA15A', \n",
    "          '#19D3F3', '#FF6692', '#B6E880', '#FF97FF', '#FECB52',\n",
    "          '#2CA02C', '#8C564B', '#7F7F7F']\n",
    "\n",
    "fig = go.Figure()\n",
    "idx = 0\n",
    "for h in horizon:\n",
    "    \n",
    "    df = data_dict[h][station]\n",
    "    df_temp = df[(df.time>=start_date) & (df.time<=end_date)] \n",
    "        \n",
    "    if idx==0:\n",
    "        y_truth = df_temp.truth\n",
    "        fig.add_trace(go.Scatter(x=df_temp.time, y=y_truth,\n",
    "                                    mode='lines+markers',\n",
    "                                    name='True',\n",
    "                                    line=dict(\n",
    "                                        color=colors[idx])\n",
    "                                )\n",
    "                     )\n",
    "        idx+=1\n",
    "        \n",
    "    y_pred = df_temp.pred\n",
    "    mae_error = masked_mae_loss(torch.tensor(y_pred.values), torch.tensor(y_truth.values))\n",
    "    fig.add_trace(go.Scatter(x=df_temp.time, y=y_pred,\n",
    "                                mode='lines',\n",
    "                                name='Predicted ({} pts, MAE: {:.2f})'.format(h, mae_error),\n",
    "                                line=dict(\n",
    "                                    color=colors[idx])\n",
    "                            )\n",
    "                 )\n",
    "    idx+=1\n",
    "    \n",
    " \n",
    "fig.update_layout(\n",
    "    title='<b>DCRNN Traffic Predictions for Multiple Horizons, each pt is 5 mins</b>',\n",
    "    xaxis_title='<b>Time Stamp</b>',\n",
    "    yaxis_title='<b>Average Speed</b>',\n",
    "#     legend_title=\"Legend Title\",\n",
    "    font=dict(\n",
    "        size=14\n",
    "    )\n",
    ")\n",
    "\n",
    "    \n",
    "fig.show()"
   ]
  },
  {
   "cell_type": "code",
   "execution_count": null,
   "id": "12402f52",
   "metadata": {},
   "outputs": [],
   "source": []
  }
 ],
 "metadata": {
  "kernelspec": {
   "display_name": "Python 3",
   "language": "python",
   "name": "python3"
  },
  "language_info": {
   "codemirror_mode": {
    "name": "ipython",
    "version": 3
   },
   "file_extension": ".py",
   "mimetype": "text/x-python",
   "name": "python",
   "nbconvert_exporter": "python",
   "pygments_lexer": "ipython3",
   "version": "3.8.8"
  },
  "toc": {
   "base_numbering": 1,
   "nav_menu": {},
   "number_sections": true,
   "sideBar": true,
   "skip_h1_title": false,
   "title_cell": "Table of Contents",
   "title_sidebar": "Contents",
   "toc_cell": false,
   "toc_position": {},
   "toc_section_display": true,
   "toc_window_display": false
  },
  "varInspector": {
   "cols": {
    "lenName": 16,
    "lenType": 16,
    "lenVar": 40
   },
   "kernels_config": {
    "python": {
     "delete_cmd_postfix": "",
     "delete_cmd_prefix": "del ",
     "library": "var_list.py",
     "varRefreshCmd": "print(var_dic_list())"
    },
    "r": {
     "delete_cmd_postfix": ") ",
     "delete_cmd_prefix": "rm(",
     "library": "var_list.r",
     "varRefreshCmd": "cat(var_dic_list()) "
    }
   },
   "types_to_exclude": [
    "module",
    "function",
    "builtin_function_or_method",
    "instance",
    "_Feature"
   ],
   "window_display": false
  }
 },
 "nbformat": 4,
 "nbformat_minor": 5
}
